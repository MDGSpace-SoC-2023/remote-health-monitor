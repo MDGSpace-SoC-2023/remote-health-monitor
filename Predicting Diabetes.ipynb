{
 "cells": [
  {
   "cell_type": "markdown",
   "id": "8ce5d595",
   "metadata": {},
   "source": [
    "Diabetes is a widespread health concern, and predicting its occurrence can be crucial for timely intervention. In this notebook, we'll develop a machine learning model to predict whether Pima Indian women in Phoenix have diabetes based on various characteristics. The dataset is sourced from the National Institutes of Diabetes-Digestive-Kidney Diseases in the USA."
   ]
  },
  {
   "cell_type": "markdown",
   "id": "c5693e85",
   "metadata": {},
   "source": [
    "# 1. Exploratory Data Analysis (EDA)"
   ]
  },
  {
   "cell_type": "markdown",
   "id": "8d2ad34f",
   "metadata": {},
   "source": [
    "Let's start by exploring the dataset to gain insights into the underlying patterns and relationships."
   ]
  },
  {
   "cell_type": "markdown",
   "id": "3a84bf94",
   "metadata": {},
   "source": [
    "# 1.1 Loading the Data"
   ]
  },
  {
   "cell_type": "code",
   "execution_count": 19,
   "id": "96f9c9af",
   "metadata": {},
   "outputs": [
    {
     "name": "stdout",
     "output_type": "stream",
     "text": [
      "Defaulting to user installation because normal site-packages is not writeable\n",
      "Requirement already satisfied: missingno in c:\\users\\hp\\appdata\\roaming\\python\\python310\\site-packages (0.5.2)\n",
      "Requirement already satisfied: seaborn in c:\\programdata\\anaconda3\\lib\\site-packages (from missingno) (0.12.2)\n",
      "Requirement already satisfied: scipy in c:\\programdata\\anaconda3\\lib\\site-packages (from missingno) (1.10.0)\n",
      "Requirement already satisfied: matplotlib in c:\\programdata\\anaconda3\\lib\\site-packages (from missingno) (3.7.0)\n",
      "Requirement already satisfied: numpy in c:\\programdata\\anaconda3\\lib\\site-packages (from missingno) (1.23.5)\n",
      "Requirement already satisfied: kiwisolver>=1.0.1 in c:\\programdata\\anaconda3\\lib\\site-packages (from matplotlib->missingno) (1.4.4)\n",
      "Requirement already satisfied: pyparsing>=2.3.1 in c:\\programdata\\anaconda3\\lib\\site-packages (from matplotlib->missingno) (3.0.9)\n",
      "Requirement already satisfied: python-dateutil>=2.7 in c:\\programdata\\anaconda3\\lib\\site-packages (from matplotlib->missingno) (2.8.2)\n",
      "Requirement already satisfied: contourpy>=1.0.1 in c:\\programdata\\anaconda3\\lib\\site-packages (from matplotlib->missingno) (1.0.5)\n",
      "Requirement already satisfied: fonttools>=4.22.0 in c:\\programdata\\anaconda3\\lib\\site-packages (from matplotlib->missingno) (4.25.0)\n",
      "Requirement already satisfied: pillow>=6.2.0 in c:\\programdata\\anaconda3\\lib\\site-packages (from matplotlib->missingno) (9.4.0)\n",
      "Requirement already satisfied: packaging>=20.0 in c:\\programdata\\anaconda3\\lib\\site-packages (from matplotlib->missingno) (22.0)\n",
      "Requirement already satisfied: cycler>=0.10 in c:\\programdata\\anaconda3\\lib\\site-packages (from matplotlib->missingno) (0.11.0)\n",
      "Requirement already satisfied: pandas>=0.25 in c:\\programdata\\anaconda3\\lib\\site-packages (from seaborn->missingno) (1.5.3)\n",
      "Requirement already satisfied: pytz>=2020.1 in c:\\programdata\\anaconda3\\lib\\site-packages (from pandas>=0.25->seaborn->missingno) (2022.7)\n",
      "Requirement already satisfied: six>=1.5 in c:\\programdata\\anaconda3\\lib\\site-packages (from python-dateutil>=2.7->matplotlib->missingno) (1.16.0)\n",
      "Note: you may need to restart the kernel to use updated packages.\n"
     ]
    }
   ],
   "source": [
    "pip install missingno"
   ]
  },
  {
   "cell_type": "code",
   "execution_count": 20,
   "id": "1a159ff3",
   "metadata": {},
   "outputs": [
    {
     "data": {
      "text/html": [
       "<div>\n",
       "<style scoped>\n",
       "    .dataframe tbody tr th:only-of-type {\n",
       "        vertical-align: middle;\n",
       "    }\n",
       "\n",
       "    .dataframe tbody tr th {\n",
       "        vertical-align: top;\n",
       "    }\n",
       "\n",
       "    .dataframe thead th {\n",
       "        text-align: right;\n",
       "    }\n",
       "</style>\n",
       "<table border=\"1\" class=\"dataframe\">\n",
       "  <thead>\n",
       "    <tr style=\"text-align: right;\">\n",
       "      <th></th>\n",
       "      <th>Pregnancies</th>\n",
       "      <th>Glucose</th>\n",
       "      <th>BloodPressure</th>\n",
       "      <th>SkinThickness</th>\n",
       "      <th>Insulin</th>\n",
       "      <th>BMI</th>\n",
       "      <th>DiabetesPedigreeFunction</th>\n",
       "      <th>Age</th>\n",
       "      <th>Outcome</th>\n",
       "    </tr>\n",
       "  </thead>\n",
       "  <tbody>\n",
       "    <tr>\n",
       "      <th>0</th>\n",
       "      <td>6</td>\n",
       "      <td>148</td>\n",
       "      <td>72</td>\n",
       "      <td>35</td>\n",
       "      <td>0</td>\n",
       "      <td>33.600</td>\n",
       "      <td>0.627</td>\n",
       "      <td>50</td>\n",
       "      <td>1</td>\n",
       "    </tr>\n",
       "    <tr>\n",
       "      <th>1</th>\n",
       "      <td>1</td>\n",
       "      <td>85</td>\n",
       "      <td>66</td>\n",
       "      <td>29</td>\n",
       "      <td>0</td>\n",
       "      <td>26.600</td>\n",
       "      <td>0.351</td>\n",
       "      <td>31</td>\n",
       "      <td>0</td>\n",
       "    </tr>\n",
       "    <tr>\n",
       "      <th>2</th>\n",
       "      <td>8</td>\n",
       "      <td>183</td>\n",
       "      <td>64</td>\n",
       "      <td>0</td>\n",
       "      <td>0</td>\n",
       "      <td>23.300</td>\n",
       "      <td>0.672</td>\n",
       "      <td>32</td>\n",
       "      <td>1</td>\n",
       "    </tr>\n",
       "    <tr>\n",
       "      <th>3</th>\n",
       "      <td>1</td>\n",
       "      <td>89</td>\n",
       "      <td>66</td>\n",
       "      <td>23</td>\n",
       "      <td>94</td>\n",
       "      <td>28.100</td>\n",
       "      <td>0.167</td>\n",
       "      <td>21</td>\n",
       "      <td>0</td>\n",
       "    </tr>\n",
       "    <tr>\n",
       "      <th>4</th>\n",
       "      <td>0</td>\n",
       "      <td>137</td>\n",
       "      <td>40</td>\n",
       "      <td>35</td>\n",
       "      <td>168</td>\n",
       "      <td>43.100</td>\n",
       "      <td>2.288</td>\n",
       "      <td>33</td>\n",
       "      <td>1</td>\n",
       "    </tr>\n",
       "    <tr>\n",
       "      <th>5</th>\n",
       "      <td>5</td>\n",
       "      <td>116</td>\n",
       "      <td>74</td>\n",
       "      <td>0</td>\n",
       "      <td>0</td>\n",
       "      <td>25.600</td>\n",
       "      <td>0.201</td>\n",
       "      <td>30</td>\n",
       "      <td>0</td>\n",
       "    </tr>\n",
       "    <tr>\n",
       "      <th>6</th>\n",
       "      <td>3</td>\n",
       "      <td>78</td>\n",
       "      <td>50</td>\n",
       "      <td>32</td>\n",
       "      <td>88</td>\n",
       "      <td>31.000</td>\n",
       "      <td>0.248</td>\n",
       "      <td>26</td>\n",
       "      <td>1</td>\n",
       "    </tr>\n",
       "    <tr>\n",
       "      <th>7</th>\n",
       "      <td>10</td>\n",
       "      <td>115</td>\n",
       "      <td>0</td>\n",
       "      <td>0</td>\n",
       "      <td>0</td>\n",
       "      <td>35.300</td>\n",
       "      <td>0.134</td>\n",
       "      <td>29</td>\n",
       "      <td>0</td>\n",
       "    </tr>\n",
       "    <tr>\n",
       "      <th>8</th>\n",
       "      <td>2</td>\n",
       "      <td>197</td>\n",
       "      <td>70</td>\n",
       "      <td>45</td>\n",
       "      <td>543</td>\n",
       "      <td>30.500</td>\n",
       "      <td>0.158</td>\n",
       "      <td>53</td>\n",
       "      <td>1</td>\n",
       "    </tr>\n",
       "    <tr>\n",
       "      <th>9</th>\n",
       "      <td>8</td>\n",
       "      <td>125</td>\n",
       "      <td>96</td>\n",
       "      <td>0</td>\n",
       "      <td>0</td>\n",
       "      <td>0.000</td>\n",
       "      <td>0.232</td>\n",
       "      <td>54</td>\n",
       "      <td>1</td>\n",
       "    </tr>\n",
       "  </tbody>\n",
       "</table>\n",
       "</div>"
      ],
      "text/plain": [
       "   Pregnancies  Glucose  BloodPressure  SkinThickness  Insulin    BMI  DiabetesPedigreeFunction  Age  Outcome\n",
       "0            6      148             72             35        0 33.600                     0.627   50        1\n",
       "1            1       85             66             29        0 26.600                     0.351   31        0\n",
       "2            8      183             64              0        0 23.300                     0.672   32        1\n",
       "3            1       89             66             23       94 28.100                     0.167   21        0\n",
       "4            0      137             40             35      168 43.100                     2.288   33        1\n",
       "5            5      116             74              0        0 25.600                     0.201   30        0\n",
       "6            3       78             50             32       88 31.000                     0.248   26        1\n",
       "7           10      115              0              0        0 35.300                     0.134   29        0\n",
       "8            2      197             70             45      543 30.500                     0.158   53        1\n",
       "9            8      125             96              0        0  0.000                     0.232   54        1"
      ]
     },
     "execution_count": 20,
     "metadata": {},
     "output_type": "execute_result"
    }
   ],
   "source": [
    "# Importing necessary libraries\n",
    "import numpy as np\n",
    "import pandas as pd\n",
    "import seaborn as sns\n",
    "from matplotlib import pyplot as plt\n",
    "import missingno as msno\n",
    "from datetime import date\n",
    "from sklearn.metrics import accuracy_score\n",
    "from sklearn.model_selection import train_test_split\n",
    "from sklearn.neighbors import LocalOutlierFactor\n",
    "from sklearn.preprocessing import MinMaxScaler, LabelEncoder, StandardScaler, RobustScaler\n",
    "from sklearn.ensemble import RandomForestClassifier\n",
    "pd.set_option('display.max_columns', None)\n",
    "pd.set_option('display.max_rows', None)\n",
    "pd.set_option('display.float_format', lambda x: '%.3f' % x)\n",
    "pd.set_option('display.width', 500)\n",
    "\n",
    "# Load the data\n",
    "def load_data():\n",
    "    data = pd.read_csv('F:\\SOC 23\\diabaties\\diabetes.csv')\n",
    "    return data\n",
    "\n",
    "df = load_data()\n",
    "df.head(10)\n"
   ]
  },
  {
   "cell_type": "markdown",
   "id": "6fccc15d",
   "metadata": {},
   "source": [
    "# 1.2 Data Exploration"
   ]
  },
  {
   "cell_type": "code",
   "execution_count": 21,
   "id": "262f9175",
   "metadata": {},
   "outputs": [
    {
     "data": {
      "text/plain": [
       "(768, 9)"
      ]
     },
     "execution_count": 21,
     "metadata": {},
     "output_type": "execute_result"
    }
   ],
   "source": [
    "# Data Exploration\n",
    "\n",
    "# Displaying data shape and basic information\n",
    "df.shape"
   ]
  },
  {
   "cell_type": "code",
   "execution_count": 22,
   "id": "5d6ddc54",
   "metadata": {},
   "outputs": [
    {
     "data": {
      "text/plain": [
       "Pregnancies                 0\n",
       "Glucose                     0\n",
       "BloodPressure               0\n",
       "SkinThickness               0\n",
       "Insulin                     0\n",
       "BMI                         0\n",
       "DiabetesPedigreeFunction    0\n",
       "Age                         0\n",
       "Outcome                     0\n",
       "dtype: int64"
      ]
     },
     "execution_count": 22,
     "metadata": {},
     "output_type": "execute_result"
    }
   ],
   "source": [
    "df.isnull().sum()"
   ]
  },
  {
   "cell_type": "code",
   "execution_count": 23,
   "id": "2654748c",
   "metadata": {},
   "outputs": [
    {
     "name": "stdout",
     "output_type": "stream",
     "text": [
      "<class 'pandas.core.frame.DataFrame'>\n",
      "RangeIndex: 768 entries, 0 to 767\n",
      "Data columns (total 9 columns):\n",
      " #   Column                    Non-Null Count  Dtype  \n",
      "---  ------                    --------------  -----  \n",
      " 0   Pregnancies               768 non-null    int64  \n",
      " 1   Glucose                   768 non-null    int64  \n",
      " 2   BloodPressure             768 non-null    int64  \n",
      " 3   SkinThickness             768 non-null    int64  \n",
      " 4   Insulin                   768 non-null    int64  \n",
      " 5   BMI                       768 non-null    float64\n",
      " 6   DiabetesPedigreeFunction  768 non-null    float64\n",
      " 7   Age                       768 non-null    int64  \n",
      " 8   Outcome                   768 non-null    int64  \n",
      "dtypes: float64(2), int64(7)\n",
      "memory usage: 54.1 KB\n"
     ]
    }
   ],
   "source": [
    "df.info()"
   ]
  },
  {
   "cell_type": "markdown",
   "id": "899c4ca8",
   "metadata": {},
   "source": [
    "# 1.3 Age Group Analysis"
   ]
  },
  {
   "cell_type": "code",
   "execution_count": 24,
   "id": "8b1fd830",
   "metadata": {},
   "outputs": [
    {
     "data": {
      "text/html": [
       "<div>\n",
       "<style scoped>\n",
       "    .dataframe tbody tr th:only-of-type {\n",
       "        vertical-align: middle;\n",
       "    }\n",
       "\n",
       "    .dataframe tbody tr th {\n",
       "        vertical-align: top;\n",
       "    }\n",
       "\n",
       "    .dataframe thead th {\n",
       "        text-align: right;\n",
       "    }\n",
       "</style>\n",
       "<table border=\"1\" class=\"dataframe\">\n",
       "  <thead>\n",
       "    <tr style=\"text-align: right;\">\n",
       "      <th></th>\n",
       "      <th>Pregnancies</th>\n",
       "      <th>Glucose</th>\n",
       "      <th>BloodPressure</th>\n",
       "      <th>SkinThickness</th>\n",
       "      <th>Insulin</th>\n",
       "      <th>BMI</th>\n",
       "      <th>DiabetesPedigreeFunction</th>\n",
       "      <th>Age</th>\n",
       "      <th>Outcome</th>\n",
       "      <th>Age_Group</th>\n",
       "    </tr>\n",
       "  </thead>\n",
       "  <tbody>\n",
       "    <tr>\n",
       "      <th>0</th>\n",
       "      <td>6</td>\n",
       "      <td>148</td>\n",
       "      <td>72</td>\n",
       "      <td>35</td>\n",
       "      <td>0</td>\n",
       "      <td>33.600</td>\n",
       "      <td>0.627</td>\n",
       "      <td>50</td>\n",
       "      <td>1</td>\n",
       "      <td>Middle-Aged</td>\n",
       "    </tr>\n",
       "    <tr>\n",
       "      <th>1</th>\n",
       "      <td>1</td>\n",
       "      <td>85</td>\n",
       "      <td>66</td>\n",
       "      <td>29</td>\n",
       "      <td>0</td>\n",
       "      <td>26.600</td>\n",
       "      <td>0.351</td>\n",
       "      <td>31</td>\n",
       "      <td>0</td>\n",
       "      <td>Middle-Aged</td>\n",
       "    </tr>\n",
       "    <tr>\n",
       "      <th>2</th>\n",
       "      <td>8</td>\n",
       "      <td>183</td>\n",
       "      <td>64</td>\n",
       "      <td>0</td>\n",
       "      <td>0</td>\n",
       "      <td>23.300</td>\n",
       "      <td>0.672</td>\n",
       "      <td>32</td>\n",
       "      <td>1</td>\n",
       "      <td>Middle-Aged</td>\n",
       "    </tr>\n",
       "    <tr>\n",
       "      <th>3</th>\n",
       "      <td>1</td>\n",
       "      <td>89</td>\n",
       "      <td>66</td>\n",
       "      <td>23</td>\n",
       "      <td>94</td>\n",
       "      <td>28.100</td>\n",
       "      <td>0.167</td>\n",
       "      <td>21</td>\n",
       "      <td>0</td>\n",
       "      <td>Young Adults</td>\n",
       "    </tr>\n",
       "    <tr>\n",
       "      <th>4</th>\n",
       "      <td>0</td>\n",
       "      <td>137</td>\n",
       "      <td>40</td>\n",
       "      <td>35</td>\n",
       "      <td>168</td>\n",
       "      <td>43.100</td>\n",
       "      <td>2.288</td>\n",
       "      <td>33</td>\n",
       "      <td>1</td>\n",
       "      <td>Middle-Aged</td>\n",
       "    </tr>\n",
       "  </tbody>\n",
       "</table>\n",
       "</div>"
      ],
      "text/plain": [
       "   Pregnancies  Glucose  BloodPressure  SkinThickness  Insulin    BMI  DiabetesPedigreeFunction  Age  Outcome     Age_Group\n",
       "0            6      148             72             35        0 33.600                     0.627   50        1   Middle-Aged\n",
       "1            1       85             66             29        0 26.600                     0.351   31        0   Middle-Aged\n",
       "2            8      183             64              0        0 23.300                     0.672   32        1   Middle-Aged\n",
       "3            1       89             66             23       94 28.100                     0.167   21        0  Young Adults\n",
       "4            0      137             40             35      168 43.100                     2.288   33        1   Middle-Aged"
      ]
     },
     "execution_count": 24,
     "metadata": {},
     "output_type": "execute_result"
    }
   ],
   "source": [
    "# Age Group\n",
    "df['Age_Group'] = pd.cut(df['Age'], bins=[-1, 30, 50, float('inf')],\n",
    "                         labels=['Young Adults', 'Middle-Aged', 'Seniors'])\n",
    "df.head()"
   ]
  },
  {
   "cell_type": "markdown",
   "id": "458b0302",
   "metadata": {},
   "source": [
    "# 1.4 Outlier Analysis"
   ]
  },
  {
   "cell_type": "code",
   "execution_count": 25,
   "id": "3fdf922c",
   "metadata": {},
   "outputs": [],
   "source": [
    "# Outlier Analysis\n",
    "def outlier_thresholds (dataframe, col_name, q1=0.25, q3=0.75) :\n",
    "    quartile1 = dataframe[col_name].quantile(q1)\n",
    "    quartile3 = dataframe[col_name].quantile(q3)\n",
    "    interquartile_range = quartile3 - quartile1\n",
    "    up_limit = quartile3 + 1.5 * interquartile_range\n",
    "    low_limit = quartile1 - 1.5 * interquartile_range\n",
    "    return low_limit, up_limit"
   ]
  },
  {
   "cell_type": "code",
   "execution_count": 26,
   "id": "21a61f39",
   "metadata": {},
   "outputs": [
    {
     "data": {
      "text/plain": [
       "(-190.875, 318.125)"
      ]
     },
     "execution_count": 26,
     "metadata": {},
     "output_type": "execute_result"
    }
   ],
   "source": [
    "outlier_thresholds(df, 'Insulin')"
   ]
  },
  {
   "cell_type": "code",
   "execution_count": 27,
   "id": "82500940",
   "metadata": {},
   "outputs": [],
   "source": [
    "def check_outlier(dataframe, col_name):\n",
    "    low_limit, up_limit = outlier_thresholds(dataframe, col_name)\n",
    "    outliers = (dataframe[col_name] > up_limit) | (dataframe[col_name] < low_limit)\n",
    "    if outliers.any():\n",
    "        return True\n",
    "    else:\n",
    "        return False"
   ]
  },
  {
   "cell_type": "code",
   "execution_count": 28,
   "id": "8626e058",
   "metadata": {},
   "outputs": [
    {
     "data": {
      "text/plain": [
       "True"
      ]
     },
     "execution_count": 28,
     "metadata": {},
     "output_type": "execute_result"
    }
   ],
   "source": [
    "check_outlier(df, 'Insulin')"
   ]
  },
  {
   "cell_type": "markdown",
   "id": "a6660118",
   "metadata": {},
   "source": [
    "# 1.5 Capturing Numerical and Categorical Variables"
   ]
  },
  {
   "cell_type": "code",
   "execution_count": 29,
   "id": "c6cc3552",
   "metadata": {},
   "outputs": [],
   "source": [
    "def num_cat(df):\n",
    "    num_cols = df.select_dtypes(include=\"number\").columns.to_list()\n",
    "    num_list = [col for col in df.columns if (df[col].nunique() > 10) & (col in num_cols)]\n",
    "\n",
    "    cat_list = df.select_dtypes(include=\"object\").columns.to_list()\n",
    "    cat_list += [col for col in df.columns if (df[col].nunique() < 10) & (col not in cat_list)]\n",
    "\n",
    "    return num_list,cat_list\n",
    "\n",
    "num_list,cat_list = num_cat(df)"
   ]
  },
  {
   "cell_type": "markdown",
   "id": "bd1a1b91",
   "metadata": {},
   "source": [
    "# 1.6 Analyzing Target Variable"
   ]
  },
  {
   "cell_type": "markdown",
   "id": "53a250b6",
   "metadata": {},
   "source": [
    "Average of numerical variables according to the target variable.\n",
    "Average of the target variable according to categorical variables"
   ]
  },
  {
   "cell_type": "code",
   "execution_count": 30,
   "id": "e6a3f845",
   "metadata": {},
   "outputs": [
    {
     "data": {
      "text/html": [
       "<div>\n",
       "<style scoped>\n",
       "    .dataframe tbody tr th:only-of-type {\n",
       "        vertical-align: middle;\n",
       "    }\n",
       "\n",
       "    .dataframe tbody tr th {\n",
       "        vertical-align: top;\n",
       "    }\n",
       "\n",
       "    .dataframe thead th {\n",
       "        text-align: right;\n",
       "    }\n",
       "</style>\n",
       "<table border=\"1\" class=\"dataframe\">\n",
       "  <thead>\n",
       "    <tr style=\"text-align: right;\">\n",
       "      <th></th>\n",
       "      <th>Outcome</th>\n",
       "      <th>Age_Group</th>\n",
       "    </tr>\n",
       "    <tr>\n",
       "      <th>Outcome</th>\n",
       "      <th></th>\n",
       "      <th></th>\n",
       "    </tr>\n",
       "  </thead>\n",
       "  <tbody>\n",
       "    <tr>\n",
       "      <th>0</th>\n",
       "      <td>500</td>\n",
       "      <td>500</td>\n",
       "    </tr>\n",
       "    <tr>\n",
       "      <th>1</th>\n",
       "      <td>268</td>\n",
       "      <td>268</td>\n",
       "    </tr>\n",
       "  </tbody>\n",
       "</table>\n",
       "</div>"
      ],
      "text/plain": [
       "         Outcome  Age_Group\n",
       "Outcome                    \n",
       "0            500        500\n",
       "1            268        268"
      ]
     },
     "execution_count": 30,
     "metadata": {},
     "output_type": "execute_result"
    }
   ],
   "source": [
    "# Analyze the target variable\n",
    "df.groupby('Outcome')[num_list].mean()\n",
    "df.groupby('Outcome')[cat_list].count()"
   ]
  },
  {
   "cell_type": "markdown",
   "id": "367195c9",
   "metadata": {},
   "source": [
    "# 1.7 Correlation Analysis"
   ]
  },
  {
   "cell_type": "code",
   "execution_count": 31,
   "id": "2cc60dc2",
   "metadata": {},
   "outputs": [
    {
     "data": {
      "image/png": "[encoded data removed]",
      "text/plain": [
       "<Figure size 1000x800 with 2 Axes>"
      ]
     },
     "metadata": {},
     "output_type": "display_data"
    }
   ],
   "source": [
    "num_list2 = df.select_dtypes(include=['float64', 'int64'])\n",
    "\n",
    "def correlation_analysis(dataframe):\n",
    "    \"\"\"\n",
    "    Calculates and visualizes correlations between all numerical variables.\n",
    "\n",
    "    Parameters\n",
    "    - Data: Pandas DataFrame, the data set to be analyzed for correlation.\n",
    "    \"\"\"\n",
    "    # Calculate correlations between all variables\n",
    "    num_list2 = df.select_dtypes(include=['float64', 'int64'])\n",
    "    corr_matrix = num_list2.corr()\n",
    "\n",
    "    # Use heatmap for visualization\n",
    "    plt.figure(figsize=(10, 8))\n",
    "    mask = np.triu(np.ones_like(corr_matrix))\n",
    "    sns.heatmap(corr_matrix, annot=True, cmap=\"coolwarm\", fmt=\".2f\", linewidths=.5,mask=mask )\n",
    "    plt.xticks(rotation=20)\n",
    "    plt.yticks(rotation=20)\n",
    "    plt.title(\"Correlation Matrix Between All Variables\")\n",
    "    plt.show()\n",
    "\n",
    "correlation_analysis(num_list2)\n"
   ]
  },
  {
   "cell_type": "markdown",
   "id": "4ef7a872",
   "metadata": {},
   "source": [
    "# 2. Data Preprocessing and Feature Engineering"
   ]
  },
  {
   "cell_type": "markdown",
   "id": "2c549b80",
   "metadata": {},
   "source": [
    "# 2.1 Re-assignment with Outlier Thresholds"
   ]
  },
  {
   "cell_type": "code",
   "execution_count": 32,
   "id": "c75df21a",
   "metadata": {},
   "outputs": [
    {
     "name": "stdout",
     "output_type": "stream",
     "text": [
      "-190.875 318.125\n"
     ]
    },
    {
     "data": {
      "text/plain": [
       "8      543\n",
       "13     846\n",
       "54     342\n",
       "111    495\n",
       "139    325\n",
       "153    485\n",
       "186    495\n",
       "220    478\n",
       "228    744\n",
       "231    370\n",
       "247    680\n",
       "248    402\n",
       "258    375\n",
       "286    545\n",
       "296    360\n",
       "360    325\n",
       "370    465\n",
       "375    325\n",
       "392    415\n",
       "409    579\n",
       "415    474\n",
       "480    328\n",
       "486    480\n",
       "519    326\n",
       "574    330\n",
       "584    600\n",
       "612    321\n",
       "645    440\n",
       "655    540\n",
       "695    480\n",
       "707    335\n",
       "710    387\n",
       "715    392\n",
       "753    510\n",
       "Name: Insulin, dtype: int64"
      ]
     },
     "execution_count": 32,
     "metadata": {},
     "output_type": "execute_result"
    }
   ],
   "source": [
    "low, up = outlier_thresholds(df, 'Insulin')\n",
    "print(low,up)\n",
    "df[((df['Insulin'] < low) | (df['Insulin'] > up))]['Insulin']"
   ]
  },
  {
   "cell_type": "code",
   "execution_count": 33,
   "id": "d9f001df",
   "metadata": {},
   "outputs": [
    {
     "name": "stdout",
     "output_type": "stream",
     "text": [
      "Pregnancies True\n",
      "Glucose True\n",
      "BloodPressure True\n",
      "SkinThickness True\n",
      "Insulin True\n",
      "BMI True\n",
      "DiabetesPedigreeFunction True\n",
      "Age True\n",
      " \n",
      "Pregnancies False\n",
      "Glucose False\n",
      "BloodPressure False\n",
      "SkinThickness False\n",
      "Insulin False\n",
      "BMI False\n",
      "DiabetesPedigreeFunction False\n",
      "Age False\n",
      " \n",
      "Pregnancies False\n",
      "Glucose False\n",
      "BloodPressure False\n",
      "SkinThickness False\n",
      "Insulin False\n",
      "BMI False\n",
      "DiabetesPedigreeFunction False\n",
      "Age False\n"
     ]
    }
   ],
   "source": [
    "def replace_with_thresholds (dataframe, variable) :\n",
    "    low_limit , up_limit = outlier_thresholds(dataframe, variable)\n",
    "    dataframe.loc[(dataframe[variable] < low_limit), variable] = low_limit\n",
    "    dataframe.loc[(dataframe[variable] > up_limit), variable] = up_limit\n",
    "\n",
    "for col in num_list:\n",
    "    print(col, check_outlier(df, col))\n",
    "print(\" \")\n",
    "for col in num_list:\n",
    "    replace_with_thresholds (df, col)\n",
    "    print(col, check_outlier(df, col))\n",
    "print(\" \")\n",
    "for col in num_list:\n",
    "    print(col, check_outlier (df, col))"
   ]
  },
  {
   "cell_type": "code",
   "execution_count": 34,
   "id": "82814037",
   "metadata": {},
   "outputs": [
    {
     "data": {
      "text/html": [
       "<div>\n",
       "<style scoped>\n",
       "    .dataframe tbody tr th:only-of-type {\n",
       "        vertical-align: middle;\n",
       "    }\n",
       "\n",
       "    .dataframe tbody tr th {\n",
       "        vertical-align: top;\n",
       "    }\n",
       "\n",
       "    .dataframe thead th {\n",
       "        text-align: right;\n",
       "    }\n",
       "</style>\n",
       "<table border=\"1\" class=\"dataframe\">\n",
       "  <thead>\n",
       "    <tr style=\"text-align: right;\">\n",
       "      <th></th>\n",
       "      <th>count</th>\n",
       "      <th>mean</th>\n",
       "      <th>std</th>\n",
       "      <th>min</th>\n",
       "      <th>25%</th>\n",
       "      <th>50%</th>\n",
       "      <th>75%</th>\n",
       "      <th>max</th>\n",
       "    </tr>\n",
       "  </thead>\n",
       "  <tbody>\n",
       "    <tr>\n",
       "      <th>Pregnancies</th>\n",
       "      <td>768.000</td>\n",
       "      <td>3.837</td>\n",
       "      <td>3.344</td>\n",
       "      <td>0.000</td>\n",
       "      <td>1.000</td>\n",
       "      <td>3.000</td>\n",
       "      <td>6.000</td>\n",
       "      <td>13.500</td>\n",
       "    </tr>\n",
       "    <tr>\n",
       "      <th>Glucose</th>\n",
       "      <td>768.000</td>\n",
       "      <td>121.136</td>\n",
       "      <td>31.187</td>\n",
       "      <td>37.125</td>\n",
       "      <td>99.000</td>\n",
       "      <td>117.000</td>\n",
       "      <td>140.250</td>\n",
       "      <td>199.000</td>\n",
       "    </tr>\n",
       "    <tr>\n",
       "      <th>BloodPressure</th>\n",
       "      <td>768.000</td>\n",
       "      <td>70.685</td>\n",
       "      <td>14.197</td>\n",
       "      <td>35.000</td>\n",
       "      <td>62.000</td>\n",
       "      <td>72.000</td>\n",
       "      <td>80.000</td>\n",
       "      <td>107.000</td>\n",
       "    </tr>\n",
       "    <tr>\n",
       "      <th>SkinThickness</th>\n",
       "      <td>768.000</td>\n",
       "      <td>20.512</td>\n",
       "      <td>15.845</td>\n",
       "      <td>0.000</td>\n",
       "      <td>0.000</td>\n",
       "      <td>23.000</td>\n",
       "      <td>32.000</td>\n",
       "      <td>80.000</td>\n",
       "    </tr>\n",
       "    <tr>\n",
       "      <th>Insulin</th>\n",
       "      <td>768.000</td>\n",
       "      <td>73.653</td>\n",
       "      <td>93.576</td>\n",
       "      <td>0.000</td>\n",
       "      <td>0.000</td>\n",
       "      <td>30.500</td>\n",
       "      <td>127.250</td>\n",
       "      <td>318.125</td>\n",
       "    </tr>\n",
       "    <tr>\n",
       "      <th>BMI</th>\n",
       "      <td>768.000</td>\n",
       "      <td>32.125</td>\n",
       "      <td>7.050</td>\n",
       "      <td>13.350</td>\n",
       "      <td>27.300</td>\n",
       "      <td>32.000</td>\n",
       "      <td>36.600</td>\n",
       "      <td>50.550</td>\n",
       "    </tr>\n",
       "    <tr>\n",
       "      <th>DiabetesPedigreeFunction</th>\n",
       "      <td>768.000</td>\n",
       "      <td>0.459</td>\n",
       "      <td>0.286</td>\n",
       "      <td>0.078</td>\n",
       "      <td>0.244</td>\n",
       "      <td>0.372</td>\n",
       "      <td>0.626</td>\n",
       "      <td>1.200</td>\n",
       "    </tr>\n",
       "    <tr>\n",
       "      <th>Age</th>\n",
       "      <td>768.000</td>\n",
       "      <td>33.200</td>\n",
       "      <td>11.628</td>\n",
       "      <td>21.000</td>\n",
       "      <td>24.000</td>\n",
       "      <td>29.000</td>\n",
       "      <td>41.000</td>\n",
       "      <td>66.500</td>\n",
       "    </tr>\n",
       "    <tr>\n",
       "      <th>Outcome</th>\n",
       "      <td>768.000</td>\n",
       "      <td>0.349</td>\n",
       "      <td>0.477</td>\n",
       "      <td>0.000</td>\n",
       "      <td>0.000</td>\n",
       "      <td>0.000</td>\n",
       "      <td>1.000</td>\n",
       "      <td>1.000</td>\n",
       "    </tr>\n",
       "  </tbody>\n",
       "</table>\n",
       "</div>"
      ],
      "text/plain": [
       "                           count    mean    std    min    25%     50%     75%     max\n",
       "Pregnancies              768.000   3.837  3.344  0.000  1.000   3.000   6.000  13.500\n",
       "Glucose                  768.000 121.136 31.187 37.125 99.000 117.000 140.250 199.000\n",
       "BloodPressure            768.000  70.685 14.197 35.000 62.000  72.000  80.000 107.000\n",
       "SkinThickness            768.000  20.512 15.845  0.000  0.000  23.000  32.000  80.000\n",
       "Insulin                  768.000  73.653 93.576  0.000  0.000  30.500 127.250 318.125\n",
       "BMI                      768.000  32.125  7.050 13.350 27.300  32.000  36.600  50.550\n",
       "DiabetesPedigreeFunction 768.000   0.459  0.286  0.078  0.244   0.372   0.626   1.200\n",
       "Age                      768.000  33.200 11.628 21.000 24.000  29.000  41.000  66.500\n",
       "Outcome                  768.000   0.349  0.477  0.000  0.000   0.000   1.000   1.000"
      ]
     },
     "execution_count": 34,
     "metadata": {},
     "output_type": "execute_result"
    }
   ],
   "source": [
    "df.describe().T"
   ]
  },
  {
   "cell_type": "code",
   "execution_count": 35,
   "id": "ff0b6801",
   "metadata": {},
   "outputs": [
    {
     "data": {
      "text/html": [
       "<div>\n",
       "<style scoped>\n",
       "    .dataframe tbody tr th:only-of-type {\n",
       "        vertical-align: middle;\n",
       "    }\n",
       "\n",
       "    .dataframe tbody tr th {\n",
       "        vertical-align: top;\n",
       "    }\n",
       "\n",
       "    .dataframe thead th {\n",
       "        text-align: right;\n",
       "    }\n",
       "</style>\n",
       "<table border=\"1\" class=\"dataframe\">\n",
       "  <thead>\n",
       "    <tr style=\"text-align: right;\">\n",
       "      <th></th>\n",
       "      <th>Pregnancies</th>\n",
       "      <th>Glucose</th>\n",
       "      <th>BloodPressure</th>\n",
       "      <th>SkinThickness</th>\n",
       "      <th>Insulin</th>\n",
       "      <th>BMI</th>\n",
       "      <th>DiabetesPedigreeFunction</th>\n",
       "      <th>Age</th>\n",
       "      <th>Outcome</th>\n",
       "      <th>Age_Group</th>\n",
       "    </tr>\n",
       "  </thead>\n",
       "  <tbody>\n",
       "    <tr>\n",
       "      <th>0</th>\n",
       "      <td>6.000</td>\n",
       "      <td>148.000</td>\n",
       "      <td>72</td>\n",
       "      <td>35</td>\n",
       "      <td>0.000</td>\n",
       "      <td>33.600</td>\n",
       "      <td>0.627</td>\n",
       "      <td>50.000</td>\n",
       "      <td>1</td>\n",
       "      <td>Middle-Aged</td>\n",
       "    </tr>\n",
       "    <tr>\n",
       "      <th>1</th>\n",
       "      <td>1.000</td>\n",
       "      <td>85.000</td>\n",
       "      <td>66</td>\n",
       "      <td>29</td>\n",
       "      <td>0.000</td>\n",
       "      <td>26.600</td>\n",
       "      <td>0.351</td>\n",
       "      <td>31.000</td>\n",
       "      <td>0</td>\n",
       "      <td>Middle-Aged</td>\n",
       "    </tr>\n",
       "    <tr>\n",
       "      <th>2</th>\n",
       "      <td>8.000</td>\n",
       "      <td>183.000</td>\n",
       "      <td>64</td>\n",
       "      <td>0</td>\n",
       "      <td>0.000</td>\n",
       "      <td>23.300</td>\n",
       "      <td>0.672</td>\n",
       "      <td>32.000</td>\n",
       "      <td>1</td>\n",
       "      <td>Middle-Aged</td>\n",
       "    </tr>\n",
       "    <tr>\n",
       "      <th>3</th>\n",
       "      <td>1.000</td>\n",
       "      <td>89.000</td>\n",
       "      <td>66</td>\n",
       "      <td>23</td>\n",
       "      <td>94.000</td>\n",
       "      <td>28.100</td>\n",
       "      <td>0.167</td>\n",
       "      <td>21.000</td>\n",
       "      <td>0</td>\n",
       "      <td>Young Adults</td>\n",
       "    </tr>\n",
       "    <tr>\n",
       "      <th>4</th>\n",
       "      <td>0.000</td>\n",
       "      <td>137.000</td>\n",
       "      <td>40</td>\n",
       "      <td>35</td>\n",
       "      <td>168.000</td>\n",
       "      <td>43.100</td>\n",
       "      <td>1.200</td>\n",
       "      <td>33.000</td>\n",
       "      <td>1</td>\n",
       "      <td>Middle-Aged</td>\n",
       "    </tr>\n",
       "    <tr>\n",
       "      <th>5</th>\n",
       "      <td>5.000</td>\n",
       "      <td>116.000</td>\n",
       "      <td>74</td>\n",
       "      <td>0</td>\n",
       "      <td>0.000</td>\n",
       "      <td>25.600</td>\n",
       "      <td>0.201</td>\n",
       "      <td>30.000</td>\n",
       "      <td>0</td>\n",
       "      <td>Young Adults</td>\n",
       "    </tr>\n",
       "    <tr>\n",
       "      <th>6</th>\n",
       "      <td>3.000</td>\n",
       "      <td>78.000</td>\n",
       "      <td>50</td>\n",
       "      <td>32</td>\n",
       "      <td>88.000</td>\n",
       "      <td>31.000</td>\n",
       "      <td>0.248</td>\n",
       "      <td>26.000</td>\n",
       "      <td>1</td>\n",
       "      <td>Young Adults</td>\n",
       "    </tr>\n",
       "    <tr>\n",
       "      <th>7</th>\n",
       "      <td>10.000</td>\n",
       "      <td>115.000</td>\n",
       "      <td>35</td>\n",
       "      <td>0</td>\n",
       "      <td>0.000</td>\n",
       "      <td>35.300</td>\n",
       "      <td>0.134</td>\n",
       "      <td>29.000</td>\n",
       "      <td>0</td>\n",
       "      <td>Young Adults</td>\n",
       "    </tr>\n",
       "    <tr>\n",
       "      <th>8</th>\n",
       "      <td>2.000</td>\n",
       "      <td>197.000</td>\n",
       "      <td>70</td>\n",
       "      <td>45</td>\n",
       "      <td>318.125</td>\n",
       "      <td>30.500</td>\n",
       "      <td>0.158</td>\n",
       "      <td>53.000</td>\n",
       "      <td>1</td>\n",
       "      <td>Seniors</td>\n",
       "    </tr>\n",
       "    <tr>\n",
       "      <th>9</th>\n",
       "      <td>8.000</td>\n",
       "      <td>125.000</td>\n",
       "      <td>96</td>\n",
       "      <td>0</td>\n",
       "      <td>0.000</td>\n",
       "      <td>13.350</td>\n",
       "      <td>0.232</td>\n",
       "      <td>54.000</td>\n",
       "      <td>1</td>\n",
       "      <td>Seniors</td>\n",
       "    </tr>\n",
       "  </tbody>\n",
       "</table>\n",
       "</div>"
      ],
      "text/plain": [
       "   Pregnancies  Glucose  BloodPressure  SkinThickness  Insulin    BMI  DiabetesPedigreeFunction    Age  Outcome     Age_Group\n",
       "0        6.000  148.000             72             35    0.000 33.600                     0.627 50.000        1   Middle-Aged\n",
       "1        1.000   85.000             66             29    0.000 26.600                     0.351 31.000        0   Middle-Aged\n",
       "2        8.000  183.000             64              0    0.000 23.300                     0.672 32.000        1   Middle-Aged\n",
       "3        1.000   89.000             66             23   94.000 28.100                     0.167 21.000        0  Young Adults\n",
       "4        0.000  137.000             40             35  168.000 43.100                     1.200 33.000        1   Middle-Aged\n",
       "5        5.000  116.000             74              0    0.000 25.600                     0.201 30.000        0  Young Adults\n",
       "6        3.000   78.000             50             32   88.000 31.000                     0.248 26.000        1  Young Adults\n",
       "7       10.000  115.000             35              0    0.000 35.300                     0.134 29.000        0  Young Adults\n",
       "8        2.000  197.000             70             45  318.125 30.500                     0.158 53.000        1       Seniors\n",
       "9        8.000  125.000             96              0    0.000 13.350                     0.232 54.000        1       Seniors"
      ]
     },
     "execution_count": 35,
     "metadata": {},
     "output_type": "execute_result"
    }
   ],
   "source": [
    "df.head(10)"
   ]
  },
  {
   "cell_type": "markdown",
   "id": "482b773d",
   "metadata": {},
   "source": [
    "# 2.2 Handling Missing Values"
   ]
  },
  {
   "cell_type": "code",
   "execution_count": 36,
   "id": "cd089b70",
   "metadata": {},
   "outputs": [],
   "source": [
    "def replace_zero_with_nan(dataframe, columns):\n",
    "    \"\"\"\n",
    "    Changes all zero values in certain columns to NaN.\n",
    "\n",
    "    Parameters:\n",
    "    - dataframe: Pandas DataFrame, the dataset to be processed.\n",
    "    - columns: List, the column names where you want to make the zero values NaN.\n",
    "    \"\"\"\n",
    "    dataframe.loc[:,columns] = dataframe[columns].replace(0, np.nan)\n",
    "\n",
    "replace_zero_with_nan(df, columns=['Glucose', 'BloodPressure', 'SkinThickness', 'Insulin',\n",
    "                                   'BMI', 'DiabetesPedigreeFunction', 'Age'])"
   ]
  },
  {
   "cell_type": "code",
   "execution_count": 37,
   "id": "d450d552",
   "metadata": {},
   "outputs": [],
   "source": [
    "# We need to fill NaN to be able to build the model.\n",
    "missing_ones = df.isnull().sum()[df.isnull().sum()>0].index\n",
    "\n",
    "def fill_based_cat(data,columns,based_cat,metric):\n",
    "    data = data.copy()\n",
    "    for col in columns:\n",
    "        data[col] = data[col].fillna(df.groupby(based_cat)[col].transform(metric))\n",
    "    return data\n",
    "\n",
    "df = fill_based_cat(df,missing_ones,based_cat=\"Age_Group\",metric=\"median\")"
   ]
  },
  {
   "cell_type": "code",
   "execution_count": 38,
   "id": "b0d5a280",
   "metadata": {},
   "outputs": [
    {
     "data": {
      "text/plain": [
       "False"
      ]
     },
     "execution_count": 38,
     "metadata": {},
     "output_type": "execute_result"
    }
   ],
   "source": [
    "all(df['Glucose'] == 'NaN')"
   ]
  },
  {
   "cell_type": "markdown",
   "id": "55f06c80",
   "metadata": {},
   "source": [
    "# 2.3 Creating New Variables"
   ]
  },
  {
   "cell_type": "code",
   "execution_count": 39,
   "id": "cd41013c",
   "metadata": {},
   "outputs": [
    {
     "data": {
      "text/html": [
       "<div>\n",
       "<style scoped>\n",
       "    .dataframe tbody tr th:only-of-type {\n",
       "        vertical-align: middle;\n",
       "    }\n",
       "\n",
       "    .dataframe tbody tr th {\n",
       "        vertical-align: top;\n",
       "    }\n",
       "\n",
       "    .dataframe thead th {\n",
       "        text-align: right;\n",
       "    }\n",
       "</style>\n",
       "<table border=\"1\" class=\"dataframe\">\n",
       "  <thead>\n",
       "    <tr style=\"text-align: right;\">\n",
       "      <th></th>\n",
       "      <th>Pregnancies</th>\n",
       "      <th>Glucose</th>\n",
       "      <th>BloodPressure</th>\n",
       "      <th>SkinThickness</th>\n",
       "      <th>Insulin</th>\n",
       "      <th>BMI</th>\n",
       "      <th>DiabetesPedigreeFunction</th>\n",
       "      <th>Age</th>\n",
       "      <th>Outcome</th>\n",
       "      <th>Age_Group</th>\n",
       "      <th>Pregnancy_Category</th>\n",
       "      <th>BloodPressure_Category</th>\n",
       "      <th>BMI_Category</th>\n",
       "      <th>Insulin_Sensitivity</th>\n",
       "      <th>Insulin_Resistance_Index</th>\n",
       "      <th>Triceps_Skin_Fold_Indicator</th>\n",
       "    </tr>\n",
       "  </thead>\n",
       "  <tbody>\n",
       "    <tr>\n",
       "      <th>0</th>\n",
       "      <td>6.000</td>\n",
       "      <td>148.000</td>\n",
       "      <td>72</td>\n",
       "      <td>35.000</td>\n",
       "      <td>136.000</td>\n",
       "      <td>33.600</td>\n",
       "      <td>0.627</td>\n",
       "      <td>50.000</td>\n",
       "      <td>1</td>\n",
       "      <td>Middle-Aged</td>\n",
       "      <td>Multiparous</td>\n",
       "      <td>Normal</td>\n",
       "      <td>Obese</td>\n",
       "      <td>0.032</td>\n",
       "      <td>599.048</td>\n",
       "      <td>0</td>\n",
       "    </tr>\n",
       "    <tr>\n",
       "      <th>1</th>\n",
       "      <td>1.000</td>\n",
       "      <td>85.000</td>\n",
       "      <td>66</td>\n",
       "      <td>29.000</td>\n",
       "      <td>136.000</td>\n",
       "      <td>26.600</td>\n",
       "      <td>0.351</td>\n",
       "      <td>31.000</td>\n",
       "      <td>0</td>\n",
       "      <td>Middle-Aged</td>\n",
       "      <td>Primiparous</td>\n",
       "      <td>Normal</td>\n",
       "      <td>Overweight</td>\n",
       "      <td>0.023</td>\n",
       "      <td>434.586</td>\n",
       "      <td>1</td>\n",
       "    </tr>\n",
       "    <tr>\n",
       "      <th>2</th>\n",
       "      <td>8.000</td>\n",
       "      <td>183.000</td>\n",
       "      <td>64</td>\n",
       "      <td>31.000</td>\n",
       "      <td>136.000</td>\n",
       "      <td>23.300</td>\n",
       "      <td>0.672</td>\n",
       "      <td>32.000</td>\n",
       "      <td>1</td>\n",
       "      <td>Middle-Aged</td>\n",
       "      <td>Multiparous</td>\n",
       "      <td>Normal</td>\n",
       "      <td>Normal Weight</td>\n",
       "      <td>0.058</td>\n",
       "      <td>1068.155</td>\n",
       "      <td>0</td>\n",
       "    </tr>\n",
       "    <tr>\n",
       "      <th>3</th>\n",
       "      <td>1.000</td>\n",
       "      <td>89.000</td>\n",
       "      <td>66</td>\n",
       "      <td>23.000</td>\n",
       "      <td>94.000</td>\n",
       "      <td>28.100</td>\n",
       "      <td>0.167</td>\n",
       "      <td>21.000</td>\n",
       "      <td>0</td>\n",
       "      <td>Young Adults</td>\n",
       "      <td>Primiparous</td>\n",
       "      <td>Normal</td>\n",
       "      <td>Overweight</td>\n",
       "      <td>0.034</td>\n",
       "      <td>297.722</td>\n",
       "      <td>1</td>\n",
       "    </tr>\n",
       "    <tr>\n",
       "      <th>4</th>\n",
       "      <td>0.000</td>\n",
       "      <td>137.000</td>\n",
       "      <td>40</td>\n",
       "      <td>35.000</td>\n",
       "      <td>168.000</td>\n",
       "      <td>43.100</td>\n",
       "      <td>1.200</td>\n",
       "      <td>33.000</td>\n",
       "      <td>1</td>\n",
       "      <td>Middle-Aged</td>\n",
       "      <td>Nulliparous</td>\n",
       "      <td>Normal</td>\n",
       "      <td>Obese</td>\n",
       "      <td>0.019</td>\n",
       "      <td>534.014</td>\n",
       "      <td>0</td>\n",
       "    </tr>\n",
       "  </tbody>\n",
       "</table>\n",
       "</div>"
      ],
      "text/plain": [
       "   Pregnancies  Glucose  BloodPressure  SkinThickness  Insulin    BMI  DiabetesPedigreeFunction    Age  Outcome     Age_Group Pregnancy_Category BloodPressure_Category   BMI_Category  Insulin_Sensitivity  Insulin_Resistance_Index  Triceps_Skin_Fold_Indicator\n",
       "0        6.000  148.000             72         35.000  136.000 33.600                     0.627 50.000        1   Middle-Aged        Multiparous                 Normal          Obese                0.032                   599.048                            0\n",
       "1        1.000   85.000             66         29.000  136.000 26.600                     0.351 31.000        0   Middle-Aged        Primiparous                 Normal     Overweight                0.023                   434.586                            1\n",
       "2        8.000  183.000             64         31.000  136.000 23.300                     0.672 32.000        1   Middle-Aged        Multiparous                 Normal  Normal Weight                0.058                  1068.155                            0\n",
       "3        1.000   89.000             66         23.000   94.000 28.100                     0.167 21.000        0  Young Adults        Primiparous                 Normal     Overweight                0.034                   297.722                            1\n",
       "4        0.000  137.000             40         35.000  168.000 43.100                     1.200 33.000        1   Middle-Aged        Nulliparous                 Normal          Obese                0.019                   534.014                            0"
      ]
     },
     "execution_count": 39,
     "metadata": {},
     "output_type": "execute_result"
    }
   ],
   "source": [
    "# Pregnancy Category\n",
    "df['Pregnancy_Category'] = pd.cut(df['Pregnancies'], bins=[-1, 0, 1, float('inf')],\n",
    "                                  labels=['Nulliparous', 'Primiparous', 'Multiparous'])\n",
    "\n",
    "# Blood Pressure Category\n",
    "df['BloodPressure_Category'] = pd.cut(df['BloodPressure'], bins=[-1, 80, 90, float('inf')],\n",
    "                                      labels=['Normal', 'Elevated', 'Hypertensive'])\n",
    "\n",
    "# BMI Category\n",
    "df['BMI_Category'] = pd.cut(df['BMI'], bins=[-1, 18.5, 24.9, 29.9, float('inf')],\n",
    "                            labels=['Underweight', 'Normal Weight', 'Overweight', 'Obese'])\n",
    "\n",
    "# Insulin Sensitivity\n",
    "df['Insulin_Sensitivity'] = df['Glucose'] / (df['Insulin'] * df['BMI'])\n",
    "\n",
    "# Insulin Resistance Index\n",
    "df['Insulin_Resistance_Index'] = df['Insulin'] * df['Glucose'] / df['BMI']\n",
    "\n",
    "# Triceps Skin Fold Thickness Indicator\n",
    "df['Triceps_Skin_Fold_Indicator'] = df['SkinThickness'].apply(lambda x: 1 if 20 <= x <= 30 else 0)\n",
    "\n",
    "df.head()"
   ]
  },
  {
   "cell_type": "markdown",
   "id": "e61fd66e",
   "metadata": {},
   "source": [
    "# 2.4 Encoding Categorical Variables"
   ]
  },
  {
   "cell_type": "code",
   "execution_count": 40,
   "id": "3866c3cb",
   "metadata": {},
   "outputs": [],
   "source": [
    "def one_hot_encoder(dataframe, categorical_cols, drop_first=True):\n",
    "    dataframe = pd.get_dummies(dataframe, columns=categorical_cols, drop_first=drop_first)\n",
    "    return dataframe\n",
    "\n",
    "df = one_hot_encoder(df, categorical_cols=['Pregnancy_Category', 'BloodPressure_Category',\n",
    "                                           'BMI_Category' , 'Age_Group'])"
   ]
  },
  {
   "cell_type": "markdown",
   "id": "eb2c302a",
   "metadata": {},
   "source": [
    "# 2.5 Standardization"
   ]
  },
  {
   "cell_type": "code",
   "execution_count": 41,
   "id": "8447c636",
   "metadata": {},
   "outputs": [
    {
     "data": {
      "text/html": [
       "<div>\n",
       "<style scoped>\n",
       "    .dataframe tbody tr th:only-of-type {\n",
       "        vertical-align: middle;\n",
       "    }\n",
       "\n",
       "    .dataframe tbody tr th {\n",
       "        vertical-align: top;\n",
       "    }\n",
       "\n",
       "    .dataframe thead th {\n",
       "        text-align: right;\n",
       "    }\n",
       "</style>\n",
       "<table border=\"1\" class=\"dataframe\">\n",
       "  <thead>\n",
       "    <tr style=\"text-align: right;\">\n",
       "      <th></th>\n",
       "      <th>Pregnancies</th>\n",
       "      <th>Glucose</th>\n",
       "      <th>BloodPressure</th>\n",
       "      <th>SkinThickness</th>\n",
       "      <th>Insulin</th>\n",
       "      <th>BMI</th>\n",
       "      <th>DiabetesPedigreeFunction</th>\n",
       "      <th>Age</th>\n",
       "    </tr>\n",
       "  </thead>\n",
       "  <tbody>\n",
       "    <tr>\n",
       "      <th>0</th>\n",
       "      <td>0.647</td>\n",
       "      <td>0.862</td>\n",
       "      <td>0.093</td>\n",
       "      <td>0.680</td>\n",
       "      <td>-0.024</td>\n",
       "      <td>0.209</td>\n",
       "      <td>0.589</td>\n",
       "      <td>1.446</td>\n",
       "    </tr>\n",
       "    <tr>\n",
       "      <th>1</th>\n",
       "      <td>-0.849</td>\n",
       "      <td>-1.159</td>\n",
       "      <td>-0.330</td>\n",
       "      <td>-0.012</td>\n",
       "      <td>-0.024</td>\n",
       "      <td>-0.784</td>\n",
       "      <td>-0.378</td>\n",
       "      <td>-0.189</td>\n",
       "    </tr>\n",
       "    <tr>\n",
       "      <th>2</th>\n",
       "      <td>1.246</td>\n",
       "      <td>1.985</td>\n",
       "      <td>-0.471</td>\n",
       "      <td>0.219</td>\n",
       "      <td>-0.024</td>\n",
       "      <td>-1.253</td>\n",
       "      <td>0.747</td>\n",
       "      <td>-0.103</td>\n",
       "    </tr>\n",
       "    <tr>\n",
       "      <th>3</th>\n",
       "      <td>-0.849</td>\n",
       "      <td>-1.031</td>\n",
       "      <td>-0.330</td>\n",
       "      <td>-0.704</td>\n",
       "      <td>-0.679</td>\n",
       "      <td>-0.571</td>\n",
       "      <td>-1.023</td>\n",
       "      <td>-1.050</td>\n",
       "    </tr>\n",
       "    <tr>\n",
       "      <th>4</th>\n",
       "      <td>-1.148</td>\n",
       "      <td>0.509</td>\n",
       "      <td>-2.163</td>\n",
       "      <td>0.680</td>\n",
       "      <td>0.475</td>\n",
       "      <td>1.558</td>\n",
       "      <td>2.597</td>\n",
       "      <td>-0.017</td>\n",
       "    </tr>\n",
       "  </tbody>\n",
       "</table>\n",
       "</div>"
      ],
      "text/plain": [
       "   Pregnancies  Glucose  BloodPressure  SkinThickness  Insulin    BMI  DiabetesPedigreeFunction    Age\n",
       "0        0.647    0.862          0.093          0.680   -0.024  0.209                     0.589  1.446\n",
       "1       -0.849   -1.159         -0.330         -0.012   -0.024 -0.784                    -0.378 -0.189\n",
       "2        1.246    1.985         -0.471          0.219   -0.024 -1.253                     0.747 -0.103\n",
       "3       -0.849   -1.031         -0.330         -0.704   -0.679 -0.571                    -1.023 -1.050\n",
       "4       -1.148    0.509         -2.163          0.680    0.475  1.558                     2.597 -0.017"
      ]
     },
     "execution_count": 41,
     "metadata": {},
     "output_type": "execute_result"
    }
   ],
   "source": [
    "scaler = StandardScaler()\n",
    "df[num_list] = scaler.fit_transform(df[num_list])\n",
    "df[num_list].head()"
   ]
  },
  {
   "cell_type": "markdown",
   "id": "37636f81",
   "metadata": {},
   "source": [
    "# 3. Model Development"
   ]
  },
  {
   "cell_type": "markdown",
   "id": "7c4efbb2",
   "metadata": {},
   "source": [
    "# 3.1 Splitting the Data"
   ]
  },
  {
   "cell_type": "code",
   "execution_count": 42,
   "id": "dfac1945",
   "metadata": {},
   "outputs": [],
   "source": [
    "y = df[\"Outcome\"]\n",
    "X = df.drop([\"Outcome\"], axis=1)\n",
    "X_train, X_test, y_train, y_test = train_test_split(X, y, test_size=0.30, random_state=17)"
   ]
  },
  {
   "cell_type": "markdown",
   "id": "aed94663",
   "metadata": {},
   "source": [
    "# 3.2 Random Forest Classifier"
   ]
  },
  {
   "cell_type": "code",
   "execution_count": 45,
   "id": "cacb83f4",
   "metadata": {},
   "outputs": [
    {
     "name": "stdout",
     "output_type": "stream",
     "text": [
      "0.7705627705627706\n"
     ]
    }
   ],
   "source": [
    "rf_model = RandomForestClassifier(random_state=46).fit(X_train, y_train)\n",
    "y_pred = rf_model.predict(X_test)\n",
    "score=accuracy_score(y_pred, y_test)\n",
    "print(score)"
   ]
  },
  {
   "cell_type": "markdown",
   "id": "e86dddfc",
   "metadata": {},
   "source": [
    "# Logistic Regression\n"
   ]
  },
  {
   "cell_type": "code",
   "execution_count": 47,
   "id": "11e48944",
   "metadata": {},
   "outputs": [
    {
     "name": "stdout",
     "output_type": "stream",
     "text": [
      "Logistic Regression Accuracy: 0.7705627705627706\n"
     ]
    },
    {
     "name": "stderr",
     "output_type": "stream",
     "text": [
      "C:\\ProgramData\\anaconda3\\lib\\site-packages\\sklearn\\linear_model\\_logistic.py:458: ConvergenceWarning: lbfgs failed to converge (status=1):\n",
      "STOP: TOTAL NO. of ITERATIONS REACHED LIMIT.\n",
      "\n",
      "Increase the number of iterations (max_iter) or scale the data as shown in:\n",
      "    https://scikit-learn.org/stable/modules/preprocessing.html\n",
      "Please also refer to the documentation for alternative solver options:\n",
      "    https://scikit-learn.org/stable/modules/linear_model.html#logistic-regression\n",
      "  n_iter_i = _check_optimize_result(\n"
     ]
    }
   ],
   "source": [
    "from sklearn.linear_model import LogisticRegression\n",
    "\n",
    "\n",
    "lr_model = LogisticRegression().fit(X_train, y_train)\n",
    "y_pred_lr = lr_model.predict(X_test)\n",
    "score_lr = accuracy_score(y_pred_lr, y_test)\n",
    "print(\"Logistic Regression Accuracy:\", score_lr)\n"
   ]
  },
  {
   "cell_type": "markdown",
   "id": "67c80b39",
   "metadata": {},
   "source": [
    "# Decision Tree"
   ]
  },
  {
   "cell_type": "code",
   "execution_count": 48,
   "id": "8fa128b9",
   "metadata": {},
   "outputs": [
    {
     "name": "stdout",
     "output_type": "stream",
     "text": [
      "Decision Trees Accuracy: 0.7229437229437229\n"
     ]
    }
   ],
   "source": [
    "from sklearn.tree import DecisionTreeClassifier\n",
    "\n",
    "\n",
    "dt_model = DecisionTreeClassifier(random_state=46).fit(X_train, y_train)\n",
    "y_pred_dt = dt_model.predict(X_test)\n",
    "score_dt = accuracy_score(y_pred_dt, y_test)\n",
    "print(\"Decision Trees Accuracy:\", score_dt)\n"
   ]
  },
  {
   "cell_type": "markdown",
   "id": "14433bc0",
   "metadata": {},
   "source": [
    "# XGBoost"
   ]
  },
  {
   "cell_type": "code",
   "execution_count": 49,
   "id": "fa1eca6c",
   "metadata": {},
   "outputs": [
    {
     "name": "stdout",
     "output_type": "stream",
     "text": [
      "Defaulting to user installation because normal site-packages is not writeable\n",
      "Requirement already satisfied: scikit-learn in c:\\programdata\\anaconda3\\lib\\site-packages (1.2.1)\n",
      "Collecting xgboost\n",
      "  Downloading xgboost-2.0.2-py3-none-win_amd64.whl (99.8 MB)\n",
      "     ---------------------------------------- 99.8/99.8 MB 3.6 MB/s eta 0:00:00\n",
      "Requirement already satisfied: threadpoolctl>=2.0.0 in c:\\programdata\\anaconda3\\lib\\site-packages (from scikit-learn) (2.2.0)\n",
      "Requirement already satisfied: scipy>=1.3.2 in c:\\programdata\\anaconda3\\lib\\site-packages (from scikit-learn) (1.10.0)\n",
      "Requirement already satisfied: joblib>=1.1.1 in c:\\programdata\\anaconda3\\lib\\site-packages (from scikit-learn) (1.1.1)\n",
      "Requirement already satisfied: numpy>=1.17.3 in c:\\programdata\\anaconda3\\lib\\site-packages (from scikit-learn) (1.23.5)\n",
      "Installing collected packages: xgboost\n",
      "Successfully installed xgboost-2.0.2\n",
      "Note: you may need to restart the kernel to use updated packages.\n"
     ]
    }
   ],
   "source": [
    "pip install scikit-learn xgboost\n"
   ]
  },
  {
   "cell_type": "code",
   "execution_count": 50,
   "id": "d930b0a2",
   "metadata": {},
   "outputs": [
    {
     "name": "stdout",
     "output_type": "stream",
     "text": [
      "XGBoost Accuracy: 0.7445887445887446\n"
     ]
    }
   ],
   "source": [
    "from xgboost import XGBClassifier\n",
    "\n",
    "\n",
    "xgb_model = XGBClassifier(random_state=46).fit(X_train, y_train)\n",
    "y_pred_xgb = xgb_model.predict(X_test)\n",
    "score_xgb = accuracy_score(y_pred_xgb, y_test)\n",
    "print(\"XGBoost Accuracy:\", score_xgb)\n"
   ]
  },
  {
   "cell_type": "markdown",
   "id": "cbbfa685",
   "metadata": {},
   "source": [
    "# SVM ,Naive Bayes and KNN"
   ]
  },
  {
   "cell_type": "code",
   "execution_count": 51,
   "id": "6a0794be",
   "metadata": {},
   "outputs": [
    {
     "name": "stdout",
     "output_type": "stream",
     "text": [
      "SVM Accuracy: 0.6493506493506493\n",
      "Naive Bayes Accuracy: 0.7056277056277056\n",
      "k-Nearest Neighbors Accuracy: 0.6103896103896104\n"
     ]
    }
   ],
   "source": [
    "from sklearn.svm import SVC\n",
    "from sklearn.naive_bayes import GaussianNB\n",
    "from sklearn.neighbors import KNeighborsClassifier\n",
    "\n",
    "# SVM\n",
    "svm_model = SVC(random_state=46).fit(X_train, y_train)\n",
    "y_svm_pred = svm_model.predict(X_test)\n",
    "svm_score = accuracy_score(y_svm_pred, y_test)\n",
    "print(\"SVM Accuracy:\", svm_score)\n",
    "\n",
    "# Naive Bayes\n",
    "nb_model = GaussianNB().fit(X_train, y_train)\n",
    "y_nb_pred = nb_model.predict(X_test)\n",
    "nb_score = accuracy_score(y_nb_pred, y_test)\n",
    "print(\"Naive Bayes Accuracy:\", nb_score)\n",
    "\n",
    "# k-Nearest Neighbors\n",
    "knn_model = KNeighborsClassifier().fit(X_train, y_train)\n",
    "y_knn_pred = knn_model.predict(X_test)\n",
    "knn_score = accuracy_score(y_knn_pred, y_test)\n",
    "print(\"k-Nearest Neighbors Accuracy:\", knn_score)\n"
   ]
  },
  {
   "cell_type": "markdown",
   "id": "5952916e",
   "metadata": {},
   "source": [
    "Highest accuracy is given by RandomForest and logistic regression which is around 77%"
   ]
  },
  {
   "cell_type": "markdown",
   "id": "a830cb08",
   "metadata": {},
   "source": [
    "# 4. Feature Importance"
   ]
  },
  {
   "cell_type": "markdown",
   "id": "1cb5e899",
   "metadata": {},
   "source": [
    "# 4.1 Plotting Feature Importance"
   ]
  },
  {
   "cell_type": "code",
   "execution_count": 44,
   "id": "6222a840",
   "metadata": {},
   "outputs": [
    {
     "name": "stdout",
     "output_type": "stream",
     "text": [
      "    Value                              Feature\n",
      "1   0.191                              Glucose\n",
      "9   0.111             Insulin_Resistance_Index\n",
      "5   0.099                                  BMI\n",
      "6   0.091             DiabetesPedigreeFunction\n",
      "7   0.088                                  Age\n",
      "8   0.078                  Insulin_Sensitivity\n",
      "4   0.071                              Insulin\n",
      "0   0.060                          Pregnancies\n",
      "3   0.058                        SkinThickness\n",
      "2   0.055                        BloodPressure\n",
      "18  0.020                Age_Group_Middle-Aged\n",
      "17  0.019                   BMI_Category_Obese\n",
      "15  0.011           BMI_Category_Normal Weight\n",
      "10  0.009          Triceps_Skin_Fold_Indicator\n",
      "13  0.008      BloodPressure_Category_Elevated\n",
      "16  0.008              BMI_Category_Overweight\n",
      "12  0.007       Pregnancy_Category_Multiparous\n",
      "11  0.007       Pregnancy_Category_Primiparous\n",
      "19  0.006                    Age_Group_Seniors\n",
      "14  0.005  BloodPressure_Category_Hypertensive\n"
     ]
    },
    {
     "data": {
      "image/png": "[encoded data removed]",
      "text/plain": [
       "<Figure size 1000x1000 with 1 Axes>"
      ]
     },
     "metadata": {},
     "output_type": "display_data"
    }
   ],
   "source": [
    "def plot_importance(model, features, num=len(X), save=False):\n",
    "    feature_imp = pd.DataFrame({'Value': model.feature_importances_, 'Feature': features.columns})\n",
    "    print(feature_imp.sort_values(\"Value\",ascending=False))\n",
    "    plt.figure(figsize=(10, 10))\n",
    "    sns.set(font_scale=1)\n",
    "    sns.barplot(x=\"Value\", y=\"Feature\", data=feature_imp.sort_values(by=\"Value\",\n",
    "                                                                     ascending=False)[0:num])\n",
    "    plt.title('Features')\n",
    "    plt.tight_layout()\n",
    "    plt.show()\n",
    "    if save:\n",
    "        plt.savefig('importances.png')\n",
    "\n",
    "plot_importance(rf_model, X)"
   ]
  },
  {
   "cell_type": "markdown",
   "id": "13537a0a",
   "metadata": {},
   "source": [
    "Conclusion\n",
    "In this we explored the dataset, performed necessary preprocessing steps, and developed a Random Forest model to predict diabetes. Feature importance analysis provides insights into the crucial factors influencing the predictions."
   ]
  }
 ],
 "metadata": {
  "kernelspec": {
   "display_name": "Python 3 (ipykernel)",
   "language": "python",
   "name": "python3"
  },
  "language_info": {
   "codemirror_mode": {
    "name": "ipython",
    "version": 3
   },
   "file_extension": ".py",
   "mimetype": "text/x-python",
   "name": "python",
   "nbconvert_exporter": "python",
   "pygments_lexer": "ipython3",
   "version": "3.10.9"
  }
 },
 "nbformat": 4,
 "nbformat_minor": 5
}
