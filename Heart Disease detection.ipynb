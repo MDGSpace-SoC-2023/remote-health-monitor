{
 "cells": [
  {
   "cell_type": "markdown",
   "id": "921c78ed",
   "metadata": {},
   "source": [
    "# 1. Exploratory Data Analysis (EDA)"
   ]
  },
  {
   "cell_type": "markdown",
   "id": "7df4f69c",
   "metadata": {},
   "source": [
    "# 1.1 Loading the Data"
   ]
  },
  {
   "cell_type": "code",
   "execution_count": 1,
   "id": "68639485",
   "metadata": {},
   "outputs": [
    {
     "data": {
      "text/html": [
       "<div>\n",
       "<style scoped>\n",
       "    .dataframe tbody tr th:only-of-type {\n",
       "        vertical-align: middle;\n",
       "    }\n",
       "\n",
       "    .dataframe tbody tr th {\n",
       "        vertical-align: top;\n",
       "    }\n",
       "\n",
       "    .dataframe thead th {\n",
       "        text-align: right;\n",
       "    }\n",
       "</style>\n",
       "<table border=\"1\" class=\"dataframe\">\n",
       "  <thead>\n",
       "    <tr style=\"text-align: right;\">\n",
       "      <th></th>\n",
       "      <th>Age</th>\n",
       "      <th>Sex</th>\n",
       "      <th>cp</th>\n",
       "      <th>trestbps</th>\n",
       "      <th>chol</th>\n",
       "      <th>fbs</th>\n",
       "      <th>restecg</th>\n",
       "      <th>thalch</th>\n",
       "      <th>exang</th>\n",
       "      <th>oldpeak</th>\n",
       "      <th>slope</th>\n",
       "      <th>ca</th>\n",
       "      <th>thal</th>\n",
       "      <th>num</th>\n",
       "    </tr>\n",
       "  </thead>\n",
       "  <tbody>\n",
       "    <tr>\n",
       "      <th>52</th>\n",
       "      <td>44</td>\n",
       "      <td>1</td>\n",
       "      <td>4</td>\n",
       "      <td>112</td>\n",
       "      <td>290</td>\n",
       "      <td>0</td>\n",
       "      <td>2</td>\n",
       "      <td>153</td>\n",
       "      <td>0</td>\n",
       "      <td>0</td>\n",
       "      <td>1</td>\n",
       "      <td>1</td>\n",
       "      <td>3</td>\n",
       "      <td>2</td>\n",
       "    </tr>\n",
       "    <tr>\n",
       "      <th>132</th>\n",
       "      <td>29</td>\n",
       "      <td>1</td>\n",
       "      <td>2</td>\n",
       "      <td>130</td>\n",
       "      <td>204</td>\n",
       "      <td>0</td>\n",
       "      <td>2</td>\n",
       "      <td>202</td>\n",
       "      <td>0</td>\n",
       "      <td>0</td>\n",
       "      <td>1</td>\n",
       "      <td>0</td>\n",
       "      <td>3</td>\n",
       "      <td>0</td>\n",
       "    </tr>\n",
       "    <tr>\n",
       "      <th>529</th>\n",
       "      <td>63</td>\n",
       "      <td>1</td>\n",
       "      <td>4</td>\n",
       "      <td>96</td>\n",
       "      <td>305</td>\n",
       "      <td>0</td>\n",
       "      <td>1</td>\n",
       "      <td>121</td>\n",
       "      <td>1</td>\n",
       "      <td>1</td>\n",
       "      <td>1</td>\n",
       "      <td>?</td>\n",
       "      <td>?</td>\n",
       "      <td>1</td>\n",
       "    </tr>\n",
       "    <tr>\n",
       "      <th>342</th>\n",
       "      <td>52</td>\n",
       "      <td>1</td>\n",
       "      <td>4</td>\n",
       "      <td>95</td>\n",
       "      <td>0</td>\n",
       "      <td>?</td>\n",
       "      <td>0</td>\n",
       "      <td>82</td>\n",
       "      <td>1</td>\n",
       "      <td>?</td>\n",
       "      <td>?</td>\n",
       "      <td>?</td>\n",
       "      <td>?</td>\n",
       "      <td>2</td>\n",
       "    </tr>\n",
       "    <tr>\n",
       "      <th>671</th>\n",
       "      <td>59</td>\n",
       "      <td>1</td>\n",
       "      <td>3</td>\n",
       "      <td>130</td>\n",
       "      <td>318</td>\n",
       "      <td>0</td>\n",
       "      <td>0</td>\n",
       "      <td>120</td>\n",
       "      <td>1</td>\n",
       "      <td>1</td>\n",
       "      <td>2</td>\n",
       "      <td>-9</td>\n",
       "      <td>3</td>\n",
       "      <td>0</td>\n",
       "    </tr>\n",
       "  </tbody>\n",
       "</table>\n",
       "</div>"
      ],
      "text/plain": [
       "     Age  Sex  cp trestbps chol fbs restecg thalch exang oldpeak slope  ca thal  num\n",
       "52    44    1   4      112  290   0       2    153     0       0     1   1    3    2\n",
       "132   29    1   2      130  204   0       2    202     0       0     1   0    3    0\n",
       "529   63    1   4       96  305   0       1    121     1       1     1   ?    ?    1\n",
       "342   52    1   4       95    0   ?       0     82     1       ?     ?   ?    ?    2\n",
       "671   59    1   3      130  318   0       0    120     1       1     2  -9    3    0"
      ]
     },
     "execution_count": 1,
     "metadata": {},
     "output_type": "execute_result"
    }
   ],
   "source": [
    "# Importing necessary libraries\n",
    "import numpy as np\n",
    "import pandas as pd\n",
    "import seaborn as sns\n",
    "from matplotlib import pyplot as plt\n",
    "import missingno as msno\n",
    "from datetime import date\n",
    "from sklearn.metrics import accuracy_score\n",
    "from sklearn.model_selection import train_test_split\n",
    "from sklearn.neighbors import LocalOutlierFactor\n",
    "from sklearn.preprocessing import MinMaxScaler, LabelEncoder, StandardScaler, RobustScaler\n",
    "from sklearn.ensemble import RandomForestClassifier\n",
    "pd.set_option('display.max_columns', None)\n",
    "pd.set_option('display.max_rows', None)\n",
    "pd.set_option('display.float_format', lambda x: '%.3f' % x)\n",
    "pd.set_option('display.width', 500)\n",
    "\n",
    "# Load the data\n",
    "\n",
    "df = pd.read_csv('F:\\SOC 23\\heart+disease\\dataset.csv')\n",
    "df.sample(5)\n"
   ]
  },
  {
   "cell_type": "markdown",
   "id": "22591e25",
   "metadata": {},
   "source": [
    "# 1.2 Data Exploration"
   ]
  },
  {
   "cell_type": "code",
   "execution_count": 2,
   "id": "6e56ba96",
   "metadata": {},
   "outputs": [
    {
     "data": {
      "text/plain": [
       "(920, 14)"
      ]
     },
     "execution_count": 2,
     "metadata": {},
     "output_type": "execute_result"
    }
   ],
   "source": [
    "df.shape"
   ]
  },
  {
   "cell_type": "code",
   "execution_count": 3,
   "id": "476868e6",
   "metadata": {},
   "outputs": [],
   "source": [
    "df = df.iloc[:303]"
   ]
  },
  {
   "cell_type": "code",
   "execution_count": 4,
   "id": "2713cdd8",
   "metadata": {},
   "outputs": [],
   "source": [
    "df.replace('?',np.nan, inplace=True)"
   ]
  },
  {
   "cell_type": "code",
   "execution_count": 5,
   "id": "e292ae8b",
   "metadata": {},
   "outputs": [
    {
     "data": {
      "text/plain": [
       "Age         0\n",
       "Sex         0\n",
       "cp          0\n",
       "trestbps    0\n",
       "chol        0\n",
       "fbs         0\n",
       "restecg     0\n",
       "thalch      0\n",
       "exang       0\n",
       "oldpeak     0\n",
       "slope       0\n",
       "ca          4\n",
       "thal        2\n",
       "num         0\n",
       "dtype: int64"
      ]
     },
     "execution_count": 5,
     "metadata": {},
     "output_type": "execute_result"
    }
   ],
   "source": [
    "df.isnull().sum()"
   ]
  },
  {
   "cell_type": "code",
   "execution_count": 6,
   "id": "7b94c76b",
   "metadata": {},
   "outputs": [],
   "source": [
    "columns_to_convert = ['trestbps', 'chol', 'thalch','oldpeak','fbs','restecg','exang','slope','ca','thal']\n",
    "\n",
    "# Loop through the columns and apply the conversion\n",
    "for col_name in columns_to_convert:\n",
    "    df[col_name] = pd.to_numeric(df[col_name], errors='coerce')"
   ]
  },
  {
   "cell_type": "code",
   "execution_count": 7,
   "id": "b1a6c6aa",
   "metadata": {},
   "outputs": [
    {
     "name": "stdout",
     "output_type": "stream",
     "text": [
      "<class 'pandas.core.frame.DataFrame'>\n",
      "RangeIndex: 303 entries, 0 to 302\n",
      "Data columns (total 14 columns):\n",
      " #   Column    Non-Null Count  Dtype  \n",
      "---  ------    --------------  -----  \n",
      " 0   Age       303 non-null    int64  \n",
      " 1   Sex       303 non-null    int64  \n",
      " 2   cp        303 non-null    int64  \n",
      " 3   trestbps  303 non-null    int64  \n",
      " 4   chol      303 non-null    int64  \n",
      " 5   fbs       303 non-null    int64  \n",
      " 6   restecg   303 non-null    int64  \n",
      " 7   thalch    303 non-null    int64  \n",
      " 8   exang     303 non-null    int64  \n",
      " 9   oldpeak   303 non-null    float64\n",
      " 10  slope     303 non-null    int64  \n",
      " 11  ca        299 non-null    float64\n",
      " 12  thal      301 non-null    float64\n",
      " 13  num       303 non-null    int64  \n",
      "dtypes: float64(3), int64(11)\n",
      "memory usage: 33.3 KB\n"
     ]
    }
   ],
   "source": [
    "df.info()"
   ]
  },
  {
   "cell_type": "code",
   "execution_count": 8,
   "id": "cb6476fd",
   "metadata": {},
   "outputs": [
    {
     "data": {
      "text/html": [
       "<div>\n",
       "<style scoped>\n",
       "    .dataframe tbody tr th:only-of-type {\n",
       "        vertical-align: middle;\n",
       "    }\n",
       "\n",
       "    .dataframe tbody tr th {\n",
       "        vertical-align: top;\n",
       "    }\n",
       "\n",
       "    .dataframe thead th {\n",
       "        text-align: right;\n",
       "    }\n",
       "</style>\n",
       "<table border=\"1\" class=\"dataframe\">\n",
       "  <thead>\n",
       "    <tr style=\"text-align: right;\">\n",
       "      <th></th>\n",
       "      <th>count</th>\n",
       "      <th>mean</th>\n",
       "      <th>std</th>\n",
       "      <th>min</th>\n",
       "      <th>25%</th>\n",
       "      <th>50%</th>\n",
       "      <th>75%</th>\n",
       "      <th>max</th>\n",
       "    </tr>\n",
       "  </thead>\n",
       "  <tbody>\n",
       "    <tr>\n",
       "      <th>Age</th>\n",
       "      <td>303.000</td>\n",
       "      <td>54.439</td>\n",
       "      <td>9.039</td>\n",
       "      <td>29.000</td>\n",
       "      <td>48.000</td>\n",
       "      <td>56.000</td>\n",
       "      <td>61.000</td>\n",
       "      <td>77.000</td>\n",
       "    </tr>\n",
       "    <tr>\n",
       "      <th>Sex</th>\n",
       "      <td>303.000</td>\n",
       "      <td>0.680</td>\n",
       "      <td>0.467</td>\n",
       "      <td>0.000</td>\n",
       "      <td>0.000</td>\n",
       "      <td>1.000</td>\n",
       "      <td>1.000</td>\n",
       "      <td>1.000</td>\n",
       "    </tr>\n",
       "    <tr>\n",
       "      <th>cp</th>\n",
       "      <td>303.000</td>\n",
       "      <td>3.158</td>\n",
       "      <td>0.960</td>\n",
       "      <td>1.000</td>\n",
       "      <td>3.000</td>\n",
       "      <td>3.000</td>\n",
       "      <td>4.000</td>\n",
       "      <td>4.000</td>\n",
       "    </tr>\n",
       "    <tr>\n",
       "      <th>trestbps</th>\n",
       "      <td>303.000</td>\n",
       "      <td>131.690</td>\n",
       "      <td>17.600</td>\n",
       "      <td>94.000</td>\n",
       "      <td>120.000</td>\n",
       "      <td>130.000</td>\n",
       "      <td>140.000</td>\n",
       "      <td>200.000</td>\n",
       "    </tr>\n",
       "    <tr>\n",
       "      <th>chol</th>\n",
       "      <td>303.000</td>\n",
       "      <td>246.693</td>\n",
       "      <td>51.777</td>\n",
       "      <td>126.000</td>\n",
       "      <td>211.000</td>\n",
       "      <td>241.000</td>\n",
       "      <td>275.000</td>\n",
       "      <td>564.000</td>\n",
       "    </tr>\n",
       "    <tr>\n",
       "      <th>fbs</th>\n",
       "      <td>303.000</td>\n",
       "      <td>0.149</td>\n",
       "      <td>0.356</td>\n",
       "      <td>0.000</td>\n",
       "      <td>0.000</td>\n",
       "      <td>0.000</td>\n",
       "      <td>0.000</td>\n",
       "      <td>1.000</td>\n",
       "    </tr>\n",
       "    <tr>\n",
       "      <th>restecg</th>\n",
       "      <td>303.000</td>\n",
       "      <td>0.990</td>\n",
       "      <td>0.995</td>\n",
       "      <td>0.000</td>\n",
       "      <td>0.000</td>\n",
       "      <td>1.000</td>\n",
       "      <td>2.000</td>\n",
       "      <td>2.000</td>\n",
       "    </tr>\n",
       "    <tr>\n",
       "      <th>thalch</th>\n",
       "      <td>303.000</td>\n",
       "      <td>149.607</td>\n",
       "      <td>22.875</td>\n",
       "      <td>71.000</td>\n",
       "      <td>133.500</td>\n",
       "      <td>153.000</td>\n",
       "      <td>166.000</td>\n",
       "      <td>202.000</td>\n",
       "    </tr>\n",
       "    <tr>\n",
       "      <th>exang</th>\n",
       "      <td>303.000</td>\n",
       "      <td>0.327</td>\n",
       "      <td>0.470</td>\n",
       "      <td>0.000</td>\n",
       "      <td>0.000</td>\n",
       "      <td>0.000</td>\n",
       "      <td>1.000</td>\n",
       "      <td>1.000</td>\n",
       "    </tr>\n",
       "    <tr>\n",
       "      <th>oldpeak</th>\n",
       "      <td>303.000</td>\n",
       "      <td>1.040</td>\n",
       "      <td>1.161</td>\n",
       "      <td>0.000</td>\n",
       "      <td>0.000</td>\n",
       "      <td>0.800</td>\n",
       "      <td>1.600</td>\n",
       "      <td>6.200</td>\n",
       "    </tr>\n",
       "    <tr>\n",
       "      <th>slope</th>\n",
       "      <td>303.000</td>\n",
       "      <td>1.601</td>\n",
       "      <td>0.616</td>\n",
       "      <td>1.000</td>\n",
       "      <td>1.000</td>\n",
       "      <td>2.000</td>\n",
       "      <td>2.000</td>\n",
       "      <td>3.000</td>\n",
       "    </tr>\n",
       "    <tr>\n",
       "      <th>ca</th>\n",
       "      <td>299.000</td>\n",
       "      <td>0.672</td>\n",
       "      <td>0.937</td>\n",
       "      <td>0.000</td>\n",
       "      <td>0.000</td>\n",
       "      <td>0.000</td>\n",
       "      <td>1.000</td>\n",
       "      <td>3.000</td>\n",
       "    </tr>\n",
       "    <tr>\n",
       "      <th>thal</th>\n",
       "      <td>301.000</td>\n",
       "      <td>4.734</td>\n",
       "      <td>1.940</td>\n",
       "      <td>3.000</td>\n",
       "      <td>3.000</td>\n",
       "      <td>3.000</td>\n",
       "      <td>7.000</td>\n",
       "      <td>7.000</td>\n",
       "    </tr>\n",
       "    <tr>\n",
       "      <th>num</th>\n",
       "      <td>303.000</td>\n",
       "      <td>0.937</td>\n",
       "      <td>1.229</td>\n",
       "      <td>0.000</td>\n",
       "      <td>0.000</td>\n",
       "      <td>0.000</td>\n",
       "      <td>2.000</td>\n",
       "      <td>4.000</td>\n",
       "    </tr>\n",
       "  </tbody>\n",
       "</table>\n",
       "</div>"
      ],
      "text/plain": [
       "           count    mean    std     min     25%     50%     75%     max\n",
       "Age      303.000  54.439  9.039  29.000  48.000  56.000  61.000  77.000\n",
       "Sex      303.000   0.680  0.467   0.000   0.000   1.000   1.000   1.000\n",
       "cp       303.000   3.158  0.960   1.000   3.000   3.000   4.000   4.000\n",
       "trestbps 303.000 131.690 17.600  94.000 120.000 130.000 140.000 200.000\n",
       "chol     303.000 246.693 51.777 126.000 211.000 241.000 275.000 564.000\n",
       "fbs      303.000   0.149  0.356   0.000   0.000   0.000   0.000   1.000\n",
       "restecg  303.000   0.990  0.995   0.000   0.000   1.000   2.000   2.000\n",
       "thalch   303.000 149.607 22.875  71.000 133.500 153.000 166.000 202.000\n",
       "exang    303.000   0.327  0.470   0.000   0.000   0.000   1.000   1.000\n",
       "oldpeak  303.000   1.040  1.161   0.000   0.000   0.800   1.600   6.200\n",
       "slope    303.000   1.601  0.616   1.000   1.000   2.000   2.000   3.000\n",
       "ca       299.000   0.672  0.937   0.000   0.000   0.000   1.000   3.000\n",
       "thal     301.000   4.734  1.940   3.000   3.000   3.000   7.000   7.000\n",
       "num      303.000   0.937  1.229   0.000   0.000   0.000   2.000   4.000"
      ]
     },
     "execution_count": 8,
     "metadata": {},
     "output_type": "execute_result"
    }
   ],
   "source": [
    "df.describe().T"
   ]
  },
  {
   "cell_type": "markdown",
   "id": "ca950f3e",
   "metadata": {},
   "source": [
    "# 1.3 Age Group Analysis"
   ]
  },
  {
   "cell_type": "code",
   "execution_count": 9,
   "id": "23f68cbb",
   "metadata": {},
   "outputs": [
    {
     "data": {
      "text/html": [
       "<div>\n",
       "<style scoped>\n",
       "    .dataframe tbody tr th:only-of-type {\n",
       "        vertical-align: middle;\n",
       "    }\n",
       "\n",
       "    .dataframe tbody tr th {\n",
       "        vertical-align: top;\n",
       "    }\n",
       "\n",
       "    .dataframe thead th {\n",
       "        text-align: right;\n",
       "    }\n",
       "</style>\n",
       "<table border=\"1\" class=\"dataframe\">\n",
       "  <thead>\n",
       "    <tr style=\"text-align: right;\">\n",
       "      <th></th>\n",
       "      <th>Age</th>\n",
       "      <th>Sex</th>\n",
       "      <th>cp</th>\n",
       "      <th>trestbps</th>\n",
       "      <th>chol</th>\n",
       "      <th>fbs</th>\n",
       "      <th>restecg</th>\n",
       "      <th>thalch</th>\n",
       "      <th>exang</th>\n",
       "      <th>oldpeak</th>\n",
       "      <th>slope</th>\n",
       "      <th>ca</th>\n",
       "      <th>thal</th>\n",
       "      <th>num</th>\n",
       "      <th>Age_Group</th>\n",
       "    </tr>\n",
       "  </thead>\n",
       "  <tbody>\n",
       "    <tr>\n",
       "      <th>0</th>\n",
       "      <td>63</td>\n",
       "      <td>1</td>\n",
       "      <td>1</td>\n",
       "      <td>145</td>\n",
       "      <td>233</td>\n",
       "      <td>1</td>\n",
       "      <td>2</td>\n",
       "      <td>150</td>\n",
       "      <td>0</td>\n",
       "      <td>2.300</td>\n",
       "      <td>3</td>\n",
       "      <td>0.000</td>\n",
       "      <td>6.000</td>\n",
       "      <td>0</td>\n",
       "      <td>Seniors</td>\n",
       "    </tr>\n",
       "    <tr>\n",
       "      <th>1</th>\n",
       "      <td>67</td>\n",
       "      <td>1</td>\n",
       "      <td>4</td>\n",
       "      <td>160</td>\n",
       "      <td>286</td>\n",
       "      <td>0</td>\n",
       "      <td>2</td>\n",
       "      <td>108</td>\n",
       "      <td>1</td>\n",
       "      <td>1.500</td>\n",
       "      <td>2</td>\n",
       "      <td>3.000</td>\n",
       "      <td>3.000</td>\n",
       "      <td>2</td>\n",
       "      <td>Seniors</td>\n",
       "    </tr>\n",
       "    <tr>\n",
       "      <th>2</th>\n",
       "      <td>67</td>\n",
       "      <td>1</td>\n",
       "      <td>4</td>\n",
       "      <td>120</td>\n",
       "      <td>229</td>\n",
       "      <td>0</td>\n",
       "      <td>2</td>\n",
       "      <td>129</td>\n",
       "      <td>1</td>\n",
       "      <td>2.600</td>\n",
       "      <td>2</td>\n",
       "      <td>2.000</td>\n",
       "      <td>7.000</td>\n",
       "      <td>1</td>\n",
       "      <td>Seniors</td>\n",
       "    </tr>\n",
       "    <tr>\n",
       "      <th>3</th>\n",
       "      <td>37</td>\n",
       "      <td>1</td>\n",
       "      <td>3</td>\n",
       "      <td>130</td>\n",
       "      <td>250</td>\n",
       "      <td>0</td>\n",
       "      <td>0</td>\n",
       "      <td>187</td>\n",
       "      <td>0</td>\n",
       "      <td>3.500</td>\n",
       "      <td>3</td>\n",
       "      <td>0.000</td>\n",
       "      <td>3.000</td>\n",
       "      <td>0</td>\n",
       "      <td>Middle-Aged</td>\n",
       "    </tr>\n",
       "    <tr>\n",
       "      <th>4</th>\n",
       "      <td>41</td>\n",
       "      <td>0</td>\n",
       "      <td>2</td>\n",
       "      <td>130</td>\n",
       "      <td>204</td>\n",
       "      <td>0</td>\n",
       "      <td>2</td>\n",
       "      <td>172</td>\n",
       "      <td>0</td>\n",
       "      <td>1.400</td>\n",
       "      <td>1</td>\n",
       "      <td>0.000</td>\n",
       "      <td>3.000</td>\n",
       "      <td>0</td>\n",
       "      <td>Middle-Aged</td>\n",
       "    </tr>\n",
       "  </tbody>\n",
       "</table>\n",
       "</div>"
      ],
      "text/plain": [
       "   Age  Sex  cp  trestbps  chol  fbs  restecg  thalch  exang  oldpeak  slope    ca  thal  num    Age_Group\n",
       "0   63    1   1       145   233    1        2     150      0    2.300      3 0.000 6.000    0      Seniors\n",
       "1   67    1   4       160   286    0        2     108      1    1.500      2 3.000 3.000    2      Seniors\n",
       "2   67    1   4       120   229    0        2     129      1    2.600      2 2.000 7.000    1      Seniors\n",
       "3   37    1   3       130   250    0        0     187      0    3.500      3 0.000 3.000    0  Middle-Aged\n",
       "4   41    0   2       130   204    0        2     172      0    1.400      1 0.000 3.000    0  Middle-Aged"
      ]
     },
     "execution_count": 9,
     "metadata": {},
     "output_type": "execute_result"
    }
   ],
   "source": [
    "# Age Group\n",
    "df['Age_Group'] = pd.cut(df['Age'], bins=[-1, 30, 50, float('inf')],\n",
    "                         labels=['Young Adults', 'Middle-Aged', 'Seniors'])\n",
    "df.head()"
   ]
  },
  {
   "cell_type": "markdown",
   "id": "03a02d8e",
   "metadata": {},
   "source": [
    "# Handling Missing Values"
   ]
  },
  {
   "cell_type": "code",
   "execution_count": 10,
   "id": "ddbb15d3",
   "metadata": {},
   "outputs": [
    {
     "name": "stdout",
     "output_type": "stream",
     "text": [
      "Index(['ca', 'thal'], dtype='object')\n"
     ]
    }
   ],
   "source": [
    "# We need to fill NaN to be able to build the model.\n",
    "missing_ones = df.isnull().sum()[df.isnull().sum()>0].index\n",
    "\n",
    "print(missing_ones)\n",
    "\n",
    "def fill_based_cat(data,columns,based_cat,metric):\n",
    "    data = data.copy()\n",
    "    for col in columns:\n",
    "        data[col] = data[col].fillna(df.groupby(based_cat)[col].transform(metric))\n",
    "    return data\n",
    "\n",
    "df = fill_based_cat(df,missing_ones,based_cat=\"Age_Group\",metric=\"median\")"
   ]
  },
  {
   "cell_type": "code",
   "execution_count": 11,
   "id": "12e7e6e6",
   "metadata": {},
   "outputs": [
    {
     "data": {
      "text/plain": [
       "Age          0\n",
       "Sex          0\n",
       "cp           0\n",
       "trestbps     0\n",
       "chol         0\n",
       "fbs          0\n",
       "restecg      0\n",
       "thalch       0\n",
       "exang        0\n",
       "oldpeak      0\n",
       "slope        0\n",
       "ca           0\n",
       "thal         0\n",
       "num          0\n",
       "Age_Group    0\n",
       "dtype: int64"
      ]
     },
     "execution_count": 11,
     "metadata": {},
     "output_type": "execute_result"
    }
   ],
   "source": [
    "df.isnull().sum()"
   ]
  },
  {
   "cell_type": "code",
   "execution_count": 12,
   "id": "c832129b",
   "metadata": {},
   "outputs": [
    {
     "name": "stdout",
     "output_type": "stream",
     "text": [
      "<class 'pandas.core.frame.DataFrame'>\n",
      "RangeIndex: 303 entries, 0 to 302\n",
      "Data columns (total 15 columns):\n",
      " #   Column     Non-Null Count  Dtype   \n",
      "---  ------     --------------  -----   \n",
      " 0   Age        303 non-null    int64   \n",
      " 1   Sex        303 non-null    int64   \n",
      " 2   cp         303 non-null    int64   \n",
      " 3   trestbps   303 non-null    int64   \n",
      " 4   chol       303 non-null    int64   \n",
      " 5   fbs        303 non-null    int64   \n",
      " 6   restecg    303 non-null    int64   \n",
      " 7   thalch     303 non-null    int64   \n",
      " 8   exang      303 non-null    int64   \n",
      " 9   oldpeak    303 non-null    float64 \n",
      " 10  slope      303 non-null    int64   \n",
      " 11  ca         303 non-null    float64 \n",
      " 12  thal       303 non-null    float64 \n",
      " 13  num        303 non-null    int64   \n",
      " 14  Age_Group  303 non-null    category\n",
      "dtypes: category(1), float64(3), int64(11)\n",
      "memory usage: 33.7 KB\n"
     ]
    }
   ],
   "source": [
    "df.info()"
   ]
  },
  {
   "cell_type": "markdown",
   "id": "7e14832f",
   "metadata": {},
   "source": [
    "# 1.4 Outlier Analysis"
   ]
  },
  {
   "cell_type": "code",
   "execution_count": 13,
   "id": "b8cd6764",
   "metadata": {},
   "outputs": [],
   "source": [
    "# Outlier Analysis\n",
    "def outlier_thresholds (dataframe, col_name, q1=0.25, q3=0.75) :\n",
    "   \n",
    "    quartile1 = dataframe[col_name].quantile(q1)\n",
    "    quartile3 = dataframe[col_name].quantile(q3)\n",
    "    interquartile_range = quartile3 - quartile1\n",
    "    up_limit = quartile3 + 1.5 * interquartile_range\n",
    "    low_limit = quartile1 - 1.5 * interquartile_range\n",
    "    return low_limit, up_limit"
   ]
  },
  {
   "cell_type": "code",
   "execution_count": 14,
   "id": "60ce9bdb",
   "metadata": {},
   "outputs": [
    {
     "data": {
      "text/plain": [
       "(115.0, 371.0)"
      ]
     },
     "execution_count": 14,
     "metadata": {},
     "output_type": "execute_result"
    }
   ],
   "source": [
    "outlier_thresholds(df, 'chol')"
   ]
  },
  {
   "cell_type": "code",
   "execution_count": 15,
   "id": "c08f4d4d",
   "metadata": {},
   "outputs": [],
   "source": [
    "def check_outlier(dataframe, col_name):\n",
    "    low_limit, up_limit = outlier_thresholds(dataframe, col_name)\n",
    "    outliers = (dataframe[col_name] > up_limit) | (dataframe[col_name] < low_limit)\n",
    "    if outliers.any():\n",
    "        return True\n",
    "    else:\n",
    "        return False"
   ]
  },
  {
   "cell_type": "code",
   "execution_count": 16,
   "id": "d650c039",
   "metadata": {},
   "outputs": [
    {
     "data": {
      "text/plain": [
       "True"
      ]
     },
     "execution_count": 16,
     "metadata": {},
     "output_type": "execute_result"
    }
   ],
   "source": [
    "check_outlier(df, 'chol')"
   ]
  },
  {
   "cell_type": "markdown",
   "id": "2f180627",
   "metadata": {},
   "source": [
    "# 1.5 Numerical and Categorical Variables"
   ]
  },
  {
   "cell_type": "code",
   "execution_count": 17,
   "id": "2dc24578",
   "metadata": {},
   "outputs": [],
   "source": [
    "\n",
    "num_list = ['Age', 'trestbps', 'chol', 'thalch', 'oldpeak', 'Sex', 'cp', 'fbs', 'restecg', 'exang', 'slope', 'ca', 'thal']\n",
    "cat_list = ['Age_Group']"
   ]
  },
  {
   "cell_type": "markdown",
   "id": "5c3353bb",
   "metadata": {},
   "source": [
    "# 1.6 Correlation Analysis"
   ]
  },
  {
   "cell_type": "code",
   "execution_count": 18,
   "id": "e9e372fe",
   "metadata": {},
   "outputs": [
    {
     "data": {
      "image/png": "[encoded data removed]",
      "text/plain": [
       "<Figure size 1000x800 with 2 Axes>"
      ]
     },
     "metadata": {},
     "output_type": "display_data"
    }
   ],
   "source": [
    "num_list2 = df.select_dtypes(include=['float64', 'int64'])\n",
    "\n",
    "def correlation_analysis(dataframe):\n",
    "    \"\"\"\n",
    "    Calculates and visualizes correlations between all numerical variables.\n",
    "\n",
    "    Parameters\n",
    "    - Data: Pandas DataFrame, the data set to be analyzed for correlation.\n",
    "    \"\"\"\n",
    "    # Calculate correlations between all variables\n",
    "    num_list2 = df.select_dtypes(include=['float64', 'int64'])\n",
    "    corr_matrix = num_list2.corr()\n",
    "\n",
    "    # Use heatmap for visualization\n",
    "    plt.figure(figsize=(10, 8))\n",
    "    mask = np.triu(np.ones_like(corr_matrix))\n",
    "    sns.heatmap(corr_matrix, annot=True, cmap=\"coolwarm\", fmt=\".2f\", linewidths=.5,mask=mask )\n",
    "    plt.xticks(rotation=20)\n",
    "    plt.yticks(rotation=20)\n",
    "    plt.title(\"Correlation Matrix Between All Numerical Variables\")\n",
    "    plt.show()\n",
    "\n",
    "correlation_analysis(num_list2)"
   ]
  },
  {
   "cell_type": "markdown",
   "id": "5dda87a5",
   "metadata": {},
   "source": [
    "# 2. Data Preprocessing and Feature Engineering"
   ]
  },
  {
   "cell_type": "markdown",
   "id": "4a4dd7de",
   "metadata": {},
   "source": [
    "# 2.1 Re-assignment with Outlier Thresholds"
   ]
  },
  {
   "cell_type": "code",
   "execution_count": 19,
   "id": "880a76a2",
   "metadata": {},
   "outputs": [
    {
     "name": "stdout",
     "output_type": "stream",
     "text": [
      "Age False\n",
      "trestbps True\n",
      "chol True\n",
      "thalch True\n",
      "oldpeak True\n",
      "Sex False\n",
      "cp True\n",
      "fbs True\n",
      "restecg False\n",
      "exang False\n",
      "slope False\n",
      "ca True\n",
      "thal False\n",
      " \n",
      "Age False\n",
      "trestbps False\n",
      "chol False\n",
      "thalch False\n",
      "oldpeak False\n",
      "Sex False\n",
      "cp False\n",
      "fbs False\n",
      "restecg False\n",
      "exang False\n",
      "slope False\n",
      "ca False\n",
      "thal False\n",
      " \n",
      "Age False\n",
      "trestbps False\n",
      "chol False\n",
      "thalch False\n",
      "oldpeak False\n",
      "Sex False\n",
      "cp False\n",
      "fbs False\n",
      "restecg False\n",
      "exang False\n",
      "slope False\n",
      "ca False\n",
      "thal False\n"
     ]
    }
   ],
   "source": [
    "def replace_with_thresholds (dataframe, variable) :\n",
    "    low_limit , up_limit = outlier_thresholds(dataframe, variable)\n",
    "    dataframe.loc[(dataframe[variable] < low_limit), variable] = low_limit\n",
    "    dataframe.loc[(dataframe[variable] > up_limit), variable] = up_limit\n",
    "\n",
    "for col in num_list:\n",
    "    print(col, check_outlier(df, col))\n",
    "print(\" \")\n",
    "for col in num_list:\n",
    "    replace_with_thresholds (df, col)\n",
    "    print(col, check_outlier(df, col))\n",
    "print(\" \")\n"
   ]
  },
  {
   "cell_type": "markdown",
   "id": "d01d1f53",
   "metadata": {},
   "source": [
    "# 2.2 One Hot Encoding"
   ]
  },
  {
   "cell_type": "code",
   "execution_count": 20,
   "id": "ff1bf165",
   "metadata": {},
   "outputs": [],
   "source": [
    "def one_hot_encoder(dataframe, categorical_cols, drop_first=True):\n",
    "    dataframe = pd.get_dummies(dataframe, columns=categorical_cols, drop_first=drop_first)\n",
    "    return dataframe\n",
    "\n",
    "df = one_hot_encoder(df, categorical_cols=['Age_Group'])"
   ]
  },
  {
   "cell_type": "code",
   "execution_count": 21,
   "id": "a483aefb",
   "metadata": {},
   "outputs": [
    {
     "data": {
      "text/html": [
       "<div>\n",
       "<style scoped>\n",
       "    .dataframe tbody tr th:only-of-type {\n",
       "        vertical-align: middle;\n",
       "    }\n",
       "\n",
       "    .dataframe tbody tr th {\n",
       "        vertical-align: top;\n",
       "    }\n",
       "\n",
       "    .dataframe thead th {\n",
       "        text-align: right;\n",
       "    }\n",
       "</style>\n",
       "<table border=\"1\" class=\"dataframe\">\n",
       "  <thead>\n",
       "    <tr style=\"text-align: right;\">\n",
       "      <th></th>\n",
       "      <th>Age</th>\n",
       "      <th>Sex</th>\n",
       "      <th>cp</th>\n",
       "      <th>trestbps</th>\n",
       "      <th>chol</th>\n",
       "      <th>fbs</th>\n",
       "      <th>restecg</th>\n",
       "      <th>thalch</th>\n",
       "      <th>exang</th>\n",
       "      <th>oldpeak</th>\n",
       "      <th>slope</th>\n",
       "      <th>ca</th>\n",
       "      <th>thal</th>\n",
       "      <th>num</th>\n",
       "      <th>Age_Group_Middle-Aged</th>\n",
       "      <th>Age_Group_Seniors</th>\n",
       "    </tr>\n",
       "  </thead>\n",
       "  <tbody>\n",
       "    <tr>\n",
       "      <th>167</th>\n",
       "      <td>54.000</td>\n",
       "      <td>0.000</td>\n",
       "      <td>2.000</td>\n",
       "      <td>132</td>\n",
       "      <td>288</td>\n",
       "      <td>0</td>\n",
       "      <td>2</td>\n",
       "      <td>159.000</td>\n",
       "      <td>1.000</td>\n",
       "      <td>0.000</td>\n",
       "      <td>1.000</td>\n",
       "      <td>1.000</td>\n",
       "      <td>3.000</td>\n",
       "      <td>0</td>\n",
       "      <td>0</td>\n",
       "      <td>1</td>\n",
       "    </tr>\n",
       "    <tr>\n",
       "      <th>75</th>\n",
       "      <td>65.000</td>\n",
       "      <td>0.000</td>\n",
       "      <td>3.000</td>\n",
       "      <td>160</td>\n",
       "      <td>360</td>\n",
       "      <td>0</td>\n",
       "      <td>2</td>\n",
       "      <td>151.000</td>\n",
       "      <td>0.000</td>\n",
       "      <td>0.800</td>\n",
       "      <td>1.000</td>\n",
       "      <td>0.000</td>\n",
       "      <td>3.000</td>\n",
       "      <td>0</td>\n",
       "      <td>0</td>\n",
       "      <td>1</td>\n",
       "    </tr>\n",
       "    <tr>\n",
       "      <th>177</th>\n",
       "      <td>56.000</td>\n",
       "      <td>1.000</td>\n",
       "      <td>4.000</td>\n",
       "      <td>132</td>\n",
       "      <td>184</td>\n",
       "      <td>0</td>\n",
       "      <td>2</td>\n",
       "      <td>105.000</td>\n",
       "      <td>1.000</td>\n",
       "      <td>2.100</td>\n",
       "      <td>2.000</td>\n",
       "      <td>1.000</td>\n",
       "      <td>6.000</td>\n",
       "      <td>1</td>\n",
       "      <td>0</td>\n",
       "      <td>1</td>\n",
       "    </tr>\n",
       "    <tr>\n",
       "      <th>145</th>\n",
       "      <td>47.000</td>\n",
       "      <td>1.000</td>\n",
       "      <td>3.000</td>\n",
       "      <td>108</td>\n",
       "      <td>243</td>\n",
       "      <td>0</td>\n",
       "      <td>0</td>\n",
       "      <td>152.000</td>\n",
       "      <td>0.000</td>\n",
       "      <td>0.000</td>\n",
       "      <td>1.000</td>\n",
       "      <td>0.000</td>\n",
       "      <td>3.000</td>\n",
       "      <td>1</td>\n",
       "      <td>1</td>\n",
       "      <td>0</td>\n",
       "    </tr>\n",
       "    <tr>\n",
       "      <th>132</th>\n",
       "      <td>29.000</td>\n",
       "      <td>1.000</td>\n",
       "      <td>2.000</td>\n",
       "      <td>130</td>\n",
       "      <td>204</td>\n",
       "      <td>0</td>\n",
       "      <td>2</td>\n",
       "      <td>202.000</td>\n",
       "      <td>0.000</td>\n",
       "      <td>0.000</td>\n",
       "      <td>1.000</td>\n",
       "      <td>0.000</td>\n",
       "      <td>3.000</td>\n",
       "      <td>0</td>\n",
       "      <td>0</td>\n",
       "      <td>0</td>\n",
       "    </tr>\n",
       "  </tbody>\n",
       "</table>\n",
       "</div>"
      ],
      "text/plain": [
       "       Age   Sex    cp  trestbps  chol  fbs  restecg  thalch  exang  oldpeak  slope    ca  thal  num  Age_Group_Middle-Aged  Age_Group_Seniors\n",
       "167 54.000 0.000 2.000       132   288    0        2 159.000  1.000    0.000  1.000 1.000 3.000    0                      0                  1\n",
       "75  65.000 0.000 3.000       160   360    0        2 151.000  0.000    0.800  1.000 0.000 3.000    0                      0                  1\n",
       "177 56.000 1.000 4.000       132   184    0        2 105.000  1.000    2.100  2.000 1.000 6.000    1                      0                  1\n",
       "145 47.000 1.000 3.000       108   243    0        0 152.000  0.000    0.000  1.000 0.000 3.000    1                      1                  0\n",
       "132 29.000 1.000 2.000       130   204    0        2 202.000  0.000    0.000  1.000 0.000 3.000    0                      0                  0"
      ]
     },
     "execution_count": 21,
     "metadata": {},
     "output_type": "execute_result"
    }
   ],
   "source": [
    "df.sample(5)"
   ]
  },
  {
   "cell_type": "markdown",
   "id": "815bc73f",
   "metadata": {},
   "source": [
    "# 2.3 Standardization"
   ]
  },
  {
   "cell_type": "code",
   "execution_count": 22,
   "id": "63ebb9bb",
   "metadata": {},
   "outputs": [
    {
     "data": {
      "text/html": [
       "<div>\n",
       "<style scoped>\n",
       "    .dataframe tbody tr th:only-of-type {\n",
       "        vertical-align: middle;\n",
       "    }\n",
       "\n",
       "    .dataframe tbody tr th {\n",
       "        vertical-align: top;\n",
       "    }\n",
       "\n",
       "    .dataframe thead th {\n",
       "        text-align: right;\n",
       "    }\n",
       "</style>\n",
       "<table border=\"1\" class=\"dataframe\">\n",
       "  <thead>\n",
       "    <tr style=\"text-align: right;\">\n",
       "      <th></th>\n",
       "      <th>Age</th>\n",
       "      <th>trestbps</th>\n",
       "      <th>chol</th>\n",
       "      <th>thalch</th>\n",
       "      <th>oldpeak</th>\n",
       "      <th>Sex</th>\n",
       "      <th>cp</th>\n",
       "      <th>fbs</th>\n",
       "      <th>restecg</th>\n",
       "      <th>exang</th>\n",
       "      <th>slope</th>\n",
       "      <th>ca</th>\n",
       "      <th>thal</th>\n",
       "    </tr>\n",
       "  </thead>\n",
       "  <tbody>\n",
       "    <tr>\n",
       "      <th>0</th>\n",
       "      <td>0.949</td>\n",
       "      <td>0.821</td>\n",
       "      <td>-0.265</td>\n",
       "      <td>0.015</td>\n",
       "      <td>1.151</td>\n",
       "      <td>0.686</td>\n",
       "      <td>-1.930</td>\n",
       "      <td>0.000</td>\n",
       "      <td>1.017</td>\n",
       "      <td>-0.697</td>\n",
       "      <td>2.275</td>\n",
       "      <td>-0.746</td>\n",
       "      <td>0.651</td>\n",
       "    </tr>\n",
       "    <tr>\n",
       "      <th>1</th>\n",
       "      <td>1.392</td>\n",
       "      <td>1.724</td>\n",
       "      <td>0.851</td>\n",
       "      <td>-1.835</td>\n",
       "      <td>0.429</td>\n",
       "      <td>0.686</td>\n",
       "      <td>0.914</td>\n",
       "      <td>0.000</td>\n",
       "      <td>1.017</td>\n",
       "      <td>1.435</td>\n",
       "      <td>0.649</td>\n",
       "      <td>2.181</td>\n",
       "      <td>-0.902</td>\n",
       "    </tr>\n",
       "    <tr>\n",
       "      <th>2</th>\n",
       "      <td>1.392</td>\n",
       "      <td>-0.683</td>\n",
       "      <td>-0.349</td>\n",
       "      <td>-0.910</td>\n",
       "      <td>1.422</td>\n",
       "      <td>0.686</td>\n",
       "      <td>0.914</td>\n",
       "      <td>0.000</td>\n",
       "      <td>1.017</td>\n",
       "      <td>1.435</td>\n",
       "      <td>0.649</td>\n",
       "      <td>1.596</td>\n",
       "      <td>1.168</td>\n",
       "    </tr>\n",
       "    <tr>\n",
       "      <th>3</th>\n",
       "      <td>-1.933</td>\n",
       "      <td>-0.081</td>\n",
       "      <td>0.093</td>\n",
       "      <td>1.646</td>\n",
       "      <td>2.234</td>\n",
       "      <td>0.686</td>\n",
       "      <td>-0.223</td>\n",
       "      <td>0.000</td>\n",
       "      <td>-0.997</td>\n",
       "      <td>-0.697</td>\n",
       "      <td>2.275</td>\n",
       "      <td>-0.746</td>\n",
       "      <td>-0.902</td>\n",
       "    </tr>\n",
       "    <tr>\n",
       "      <th>4</th>\n",
       "      <td>-1.489</td>\n",
       "      <td>-0.081</td>\n",
       "      <td>-0.876</td>\n",
       "      <td>0.985</td>\n",
       "      <td>0.339</td>\n",
       "      <td>-1.457</td>\n",
       "      <td>-1.361</td>\n",
       "      <td>0.000</td>\n",
       "      <td>1.017</td>\n",
       "      <td>-0.697</td>\n",
       "      <td>-0.976</td>\n",
       "      <td>-0.746</td>\n",
       "      <td>-0.902</td>\n",
       "    </tr>\n",
       "  </tbody>\n",
       "</table>\n",
       "</div>"
      ],
      "text/plain": [
       "     Age  trestbps   chol  thalch  oldpeak    Sex     cp   fbs  restecg  exang  slope     ca   thal\n",
       "0  0.949     0.821 -0.265   0.015    1.151  0.686 -1.930 0.000    1.017 -0.697  2.275 -0.746  0.651\n",
       "1  1.392     1.724  0.851  -1.835    0.429  0.686  0.914 0.000    1.017  1.435  0.649  2.181 -0.902\n",
       "2  1.392    -0.683 -0.349  -0.910    1.422  0.686  0.914 0.000    1.017  1.435  0.649  1.596  1.168\n",
       "3 -1.933    -0.081  0.093   1.646    2.234  0.686 -0.223 0.000   -0.997 -0.697  2.275 -0.746 -0.902\n",
       "4 -1.489    -0.081 -0.876   0.985    0.339 -1.457 -1.361 0.000    1.017 -0.697 -0.976 -0.746 -0.902"
      ]
     },
     "execution_count": 22,
     "metadata": {},
     "output_type": "execute_result"
    }
   ],
   "source": [
    "scaler = StandardScaler()\n",
    "df[num_list] = scaler.fit_transform(df[num_list])\n",
    "df[num_list].head()"
   ]
  },
  {
   "cell_type": "code",
   "execution_count": 23,
   "id": "c39f9910",
   "metadata": {},
   "outputs": [
    {
     "data": {
      "text/html": [
       "<div>\n",
       "<style scoped>\n",
       "    .dataframe tbody tr th:only-of-type {\n",
       "        vertical-align: middle;\n",
       "    }\n",
       "\n",
       "    .dataframe tbody tr th {\n",
       "        vertical-align: top;\n",
       "    }\n",
       "\n",
       "    .dataframe thead th {\n",
       "        text-align: right;\n",
       "    }\n",
       "</style>\n",
       "<table border=\"1\" class=\"dataframe\">\n",
       "  <thead>\n",
       "    <tr style=\"text-align: right;\">\n",
       "      <th></th>\n",
       "      <th>Age</th>\n",
       "      <th>Sex</th>\n",
       "      <th>cp</th>\n",
       "      <th>trestbps</th>\n",
       "      <th>chol</th>\n",
       "      <th>fbs</th>\n",
       "      <th>restecg</th>\n",
       "      <th>thalch</th>\n",
       "      <th>exang</th>\n",
       "      <th>oldpeak</th>\n",
       "      <th>slope</th>\n",
       "      <th>ca</th>\n",
       "      <th>thal</th>\n",
       "      <th>num</th>\n",
       "      <th>Age_Group_Middle-Aged</th>\n",
       "      <th>Age_Group_Seniors</th>\n",
       "    </tr>\n",
       "  </thead>\n",
       "  <tbody>\n",
       "    <tr>\n",
       "      <th>241</th>\n",
       "      <td>-1.489</td>\n",
       "      <td>-1.457</td>\n",
       "      <td>-1.361</td>\n",
       "      <td>-0.322</td>\n",
       "      <td>1.272</td>\n",
       "      <td>0.000</td>\n",
       "      <td>-0.997</td>\n",
       "      <td>0.588</td>\n",
       "      <td>-0.697</td>\n",
       "      <td>-0.924</td>\n",
       "      <td>-0.976</td>\n",
       "      <td>-0.746</td>\n",
       "      <td>-0.902</td>\n",
       "      <td>0</td>\n",
       "      <td>1</td>\n",
       "      <td>0</td>\n",
       "    </tr>\n",
       "    <tr>\n",
       "      <th>127</th>\n",
       "      <td>-0.049</td>\n",
       "      <td>0.686</td>\n",
       "      <td>0.914</td>\n",
       "      <td>-1.284</td>\n",
       "      <td>-0.139</td>\n",
       "      <td>0.000</td>\n",
       "      <td>-0.997</td>\n",
       "      <td>-1.042</td>\n",
       "      <td>1.435</td>\n",
       "      <td>1.602</td>\n",
       "      <td>0.649</td>\n",
       "      <td>0.425</td>\n",
       "      <td>1.168</td>\n",
       "      <td>3</td>\n",
       "      <td>0</td>\n",
       "      <td>1</td>\n",
       "    </tr>\n",
       "    <tr>\n",
       "      <th>99</th>\n",
       "      <td>-0.714</td>\n",
       "      <td>0.686</td>\n",
       "      <td>0.914</td>\n",
       "      <td>-0.562</td>\n",
       "      <td>-0.497</td>\n",
       "      <td>0.000</td>\n",
       "      <td>1.017</td>\n",
       "      <td>1.602</td>\n",
       "      <td>-0.697</td>\n",
       "      <td>-0.924</td>\n",
       "      <td>-0.976</td>\n",
       "      <td>-0.746</td>\n",
       "      <td>-0.902</td>\n",
       "      <td>0</td>\n",
       "      <td>1</td>\n",
       "      <td>0</td>\n",
       "    </tr>\n",
       "    <tr>\n",
       "      <th>168</th>\n",
       "      <td>-2.154</td>\n",
       "      <td>0.686</td>\n",
       "      <td>0.914</td>\n",
       "      <td>-0.322</td>\n",
       "      <td>0.767</td>\n",
       "      <td>0.000</td>\n",
       "      <td>1.017</td>\n",
       "      <td>0.280</td>\n",
       "      <td>1.435</td>\n",
       "      <td>-0.924</td>\n",
       "      <td>-0.976</td>\n",
       "      <td>-0.746</td>\n",
       "      <td>1.168</td>\n",
       "      <td>1</td>\n",
       "      <td>1</td>\n",
       "      <td>0</td>\n",
       "    </tr>\n",
       "    <tr>\n",
       "      <th>297</th>\n",
       "      <td>0.284</td>\n",
       "      <td>-1.457</td>\n",
       "      <td>0.914</td>\n",
       "      <td>0.521</td>\n",
       "      <td>-0.097</td>\n",
       "      <td>0.000</td>\n",
       "      <td>-0.997</td>\n",
       "      <td>-1.174</td>\n",
       "      <td>1.435</td>\n",
       "      <td>-0.744</td>\n",
       "      <td>0.649</td>\n",
       "      <td>-0.746</td>\n",
       "      <td>1.168</td>\n",
       "      <td>1</td>\n",
       "      <td>0</td>\n",
       "      <td>1</td>\n",
       "    </tr>\n",
       "  </tbody>\n",
       "</table>\n",
       "</div>"
      ],
      "text/plain": [
       "       Age    Sex     cp  trestbps   chol   fbs  restecg  thalch  exang  oldpeak  slope     ca   thal  num  Age_Group_Middle-Aged  Age_Group_Seniors\n",
       "241 -1.489 -1.457 -1.361    -0.322  1.272 0.000   -0.997   0.588 -0.697   -0.924 -0.976 -0.746 -0.902    0                      1                  0\n",
       "127 -0.049  0.686  0.914    -1.284 -0.139 0.000   -0.997  -1.042  1.435    1.602  0.649  0.425  1.168    3                      0                  1\n",
       "99  -0.714  0.686  0.914    -0.562 -0.497 0.000    1.017   1.602 -0.697   -0.924 -0.976 -0.746 -0.902    0                      1                  0\n",
       "168 -2.154  0.686  0.914    -0.322  0.767 0.000    1.017   0.280  1.435   -0.924 -0.976 -0.746  1.168    1                      1                  0\n",
       "297  0.284 -1.457  0.914     0.521 -0.097 0.000   -0.997  -1.174  1.435   -0.744  0.649 -0.746  1.168    1                      0                  1"
      ]
     },
     "execution_count": 23,
     "metadata": {},
     "output_type": "execute_result"
    }
   ],
   "source": [
    "df.sample(5)"
   ]
  },
  {
   "cell_type": "markdown",
   "id": "5390e5b3",
   "metadata": {},
   "source": [
    "# 3. Model Development"
   ]
  },
  {
   "cell_type": "markdown",
   "id": "679eaaee",
   "metadata": {},
   "source": [
    "# 3.1 Splitting the Data"
   ]
  },
  {
   "cell_type": "code",
   "execution_count": 24,
   "id": "2cf9e138",
   "metadata": {},
   "outputs": [],
   "source": [
    "y = df[\"num\"]\n",
    "X = df.drop([\"num\"], axis=1)\n",
    "X_train, X_test, y_train, y_test = train_test_split(X, y, test_size=0.30, random_state=17)"
   ]
  },
  {
   "cell_type": "markdown",
   "id": "e2d71da8",
   "metadata": {},
   "source": [
    "# Random Forest Classifier"
   ]
  },
  {
   "cell_type": "code",
   "execution_count": 25,
   "id": "06262d2b",
   "metadata": {},
   "outputs": [
    {
     "name": "stdout",
     "output_type": "stream",
     "text": [
      "0.5714285714285714\n"
     ]
    }
   ],
   "source": [
    "rf_model = RandomForestClassifier(random_state=46).fit(X_train, y_train)\n",
    "y_pred = rf_model.predict(X_test)\n",
    "score=accuracy_score(y_pred, y_test)\n",
    "print(score)"
   ]
  },
  {
   "cell_type": "markdown",
   "id": "51c5f09e",
   "metadata": {},
   "source": [
    "# Logistic Regression"
   ]
  },
  {
   "cell_type": "code",
   "execution_count": 26,
   "id": "6a96cb39",
   "metadata": {},
   "outputs": [
    {
     "name": "stdout",
     "output_type": "stream",
     "text": [
      "Logistic Regression Accuracy: 0.5164835164835165\n"
     ]
    }
   ],
   "source": [
    "from sklearn.linear_model import LogisticRegression\n",
    "\n",
    "\n",
    "lr_model = LogisticRegression().fit(X_train, y_train)\n",
    "y_pred_lr = lr_model.predict(X_test)\n",
    "score_lr = accuracy_score(y_pred_lr, y_test)\n",
    "print(\"Logistic Regression Accuracy:\", score_lr)"
   ]
  },
  {
   "cell_type": "markdown",
   "id": "b152cd61",
   "metadata": {},
   "source": [
    "# Decision Tree"
   ]
  },
  {
   "cell_type": "code",
   "execution_count": 27,
   "id": "8563036c",
   "metadata": {},
   "outputs": [
    {
     "name": "stdout",
     "output_type": "stream",
     "text": [
      "Decision Trees Accuracy: 0.4835164835164835\n"
     ]
    }
   ],
   "source": [
    "from sklearn.tree import DecisionTreeClassifier\n",
    "\n",
    "\n",
    "dt_model = DecisionTreeClassifier(random_state=46).fit(X_train, y_train)\n",
    "y_pred_dt = dt_model.predict(X_test)\n",
    "score_dt = accuracy_score(y_pred_dt, y_test)\n",
    "print(\"Decision Trees Accuracy:\", score_dt)"
   ]
  },
  {
   "cell_type": "markdown",
   "id": "3dc51a34",
   "metadata": {},
   "source": [
    "# XGBoost"
   ]
  },
  {
   "cell_type": "code",
   "execution_count": 28,
   "id": "adc92003",
   "metadata": {},
   "outputs": [
    {
     "name": "stdout",
     "output_type": "stream",
     "text": [
      "XGBoost Accuracy: 0.5054945054945055\n"
     ]
    }
   ],
   "source": [
    "from xgboost import XGBClassifier\n",
    "\n",
    "\n",
    "xgb_model = XGBClassifier(random_state=46).fit(X_train, y_train)\n",
    "y_pred_xgb = xgb_model.predict(X_test)\n",
    "score_xgb = accuracy_score(y_pred_xgb, y_test)\n",
    "print(\"XGBoost Accuracy:\", score_xgb)"
   ]
  },
  {
   "cell_type": "markdown",
   "id": "5c534830",
   "metadata": {},
   "source": [
    "# SVM ,Naive Bayes and KNN"
   ]
  },
  {
   "cell_type": "code",
   "execution_count": 29,
   "id": "aeef100f",
   "metadata": {},
   "outputs": [
    {
     "name": "stdout",
     "output_type": "stream",
     "text": [
      "SVM Accuracy: 0.5714285714285714\n",
      "Naive Bayes Accuracy: 0.45054945054945056\n",
      "k-Nearest Neighbors Accuracy: 0.5494505494505495\n"
     ]
    }
   ],
   "source": [
    "from sklearn.svm import SVC\n",
    "from sklearn.naive_bayes import GaussianNB\n",
    "from sklearn.neighbors import KNeighborsClassifier\n",
    "\n",
    "# SVM\n",
    "svm_model = SVC(random_state=46).fit(X_train, y_train)\n",
    "y_svm_pred = svm_model.predict(X_test)\n",
    "svm_score = accuracy_score(y_svm_pred, y_test)\n",
    "print(\"SVM Accuracy:\", svm_score)\n",
    "\n",
    "# Naive Bayes\n",
    "nb_model = GaussianNB().fit(X_train, y_train)\n",
    "y_nb_pred = nb_model.predict(X_test)\n",
    "nb_score = accuracy_score(y_nb_pred, y_test)\n",
    "print(\"Naive Bayes Accuracy:\", nb_score)\n",
    "\n",
    "# k-Nearest Neighbors\n",
    "knn_model = KNeighborsClassifier().fit(X_train, y_train)\n",
    "y_knn_pred = knn_model.predict(X_test)\n",
    "knn_score = accuracy_score(y_knn_pred, y_test)\n",
    "print(\"k-Nearest Neighbors Accuracy:\", knn_score)"
   ]
  },
  {
   "cell_type": "code",
   "execution_count": null,
   "id": "3570cc9d",
   "metadata": {},
   "outputs": [],
   "source": []
  }
 ],
 "metadata": {
  "kernelspec": {
   "display_name": "Python 3 (ipykernel)",
   "language": "python",
   "name": "python3"
  },
  "language_info": {
   "codemirror_mode": {
    "name": "ipython",
    "version": 3
   },
   "file_extension": ".py",
   "mimetype": "text/x-python",
   "name": "python",
   "nbconvert_exporter": "python",
   "pygments_lexer": "ipython3",
   "version": "3.10.9"
  }
 },
 "nbformat": 4,
 "nbformat_minor": 5
}
